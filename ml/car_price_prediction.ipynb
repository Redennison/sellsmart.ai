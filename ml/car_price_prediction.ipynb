{
  "cells": [
    {
      "cell_type": "code",
      "execution_count": 1,
      "metadata": {
        "id": "SyfYD29Kj_kI"
      },
      "outputs": [],
      "source": [
        "# Libraries\n",
        "\n",
        "import joblib\n",
        "import json\n",
        "import math\n",
        "import numpy as np\n",
        "import pandas as pd\n",
        "import tensorflow as tf\n",
        "from matplotlib import pyplot as plt\n",
        "from sklearn.model_selection import train_test_split\n",
        "from sklearn.preprocessing import OneHotEncoder, StandardScaler\n",
        "from tensorflow.keras.layers import Dense\n",
        "from tensorflow.keras.models import Sequential"
      ]
    },
    {
      "cell_type": "markdown",
      "source": [
        "# Pre-process Car Data"
      ],
      "metadata": {
        "id": "bYyfVfW5tYsP"
      }
    },
    {
      "cell_type": "code",
      "execution_count": 2,
      "metadata": {
        "id": "LU6Ho-A5kbCT"
      },
      "outputs": [],
      "source": [
        "# Load dataset and remove duplicates\n",
        "df = pd.read_csv('cars.csv')\n",
        "df = df.drop_duplicates()\n",
        "\n",
        "# List of common colours\n",
        "car_colours = [\n",
        "    'Black', 'White', 'Silver', 'Grey', 'Gray', 'Red', 'Blue', 'Green', 'Yellow',\n",
        "    'Orange', 'Brown', 'Beige', 'Gold', 'Maroon', 'Purple', 'Pink'\n",
        "]\n",
        "\n",
        "# List of acceptable body types\n",
        "body_types = [\n",
        "    'SUV', 'Minivan', 'Coupe', 'Convertible', 'Sedan', 'Truck', 'Hatchback',\n",
        "    'Wagon', 'Cabriolet', 'Compact', 'Van', 'Cab'\n",
        "]\n",
        "\n",
        "# Clean each row individually\n",
        "for index, row in df.iterrows():\n",
        "    # Fix Kilometres: set to '0 km' if missing and car is New\n",
        "    if pd.isna(row['Kilometres']) and row.get('Status') == 'New':\n",
        "        df.at[index, 'Kilometres'] = '0 km'\n",
        "\n",
        "    # Normalize transmission values\n",
        "    transmission = row.get('Transmission')\n",
        "    if isinstance(transmission, str):\n",
        "        transmission_lower = transmission.lower()\n",
        "        if 'automatic' in transmission_lower:\n",
        "            df.at[index, 'Transmission'] = 'automatic'\n",
        "        elif 'manual' in transmission_lower:\n",
        "            df.at[index, 'Transmission'] = 'manual'\n",
        "        else:\n",
        "            df.at[index, 'Transmission'] = None\n",
        "    else:\n",
        "        df.at[index, 'Transmission'] = None\n",
        "\n",
        "    # Normalize exterior colour\n",
        "    colour = row.get('Exterior Colour')\n",
        "    if isinstance(colour, str):\n",
        "        matched_colour = None\n",
        "        for car_colour in car_colours:\n",
        "            if car_colour.lower() in colour.lower():\n",
        "                matched_colour = 'Grey' if car_colour == 'Gray' else car_colour\n",
        "                break\n",
        "        df.at[index, 'Exterior Colour'] = matched_colour\n",
        "    else:\n",
        "        df.at[index, 'Exterior Colour'] = None\n",
        "\n",
        "    # Normalize body type\n",
        "    body = row.get('Body Type')\n",
        "    if isinstance(body, str):\n",
        "        matched_type = None\n",
        "        for bt in body_types:\n",
        "            if bt.lower() in body.lower():\n",
        "                matched_type = bt\n",
        "                break\n",
        "        df.at[index, 'Body Type'] = matched_type\n",
        "    else:\n",
        "        df.at[index, 'Body Type'] = None\n",
        "\n",
        "# Define final columns to keep\n",
        "output_column = ['Price']\n",
        "input_columns = ['Year', 'Make', 'Model', 'Kilometres']\n",
        "columns_to_keep = output_column + input_columns\n",
        "\n",
        "# Retain only necessary columns and drop rows with missing data\n",
        "df = df[columns_to_keep]\n",
        "df = df.dropna()\n",
        "\n",
        "# Convert 'Price' and 'Kilometres' to integers\n",
        "def parse_numeric(value):\n",
        "    \"\"\"Remove commas and extract numeric portion from strings like '34,000 km'.\"\"\"\n",
        "    if isinstance(value, str):\n",
        "        value = value.split()[0].replace(',', '')\n",
        "    return int(value)\n",
        "\n",
        "df['Price'] = df['Price'].apply(parse_numeric)\n",
        "df['Kilometres'] = df['Kilometres'].apply(parse_numeric)\n",
        "\n",
        "# Save the cleaned dataset\n",
        "df.to_csv(\"cars_preprocessed.csv\", index=False)"
      ]
    },
    {
      "cell_type": "markdown",
      "source": [
        "# One Hot Encode Make & Model Cols"
      ],
      "metadata": {
        "id": "LMSucIpZgFkT"
      }
    },
    {
      "cell_type": "code",
      "execution_count": 3,
      "metadata": {
        "id": "3Yrd90dxqhVZ"
      },
      "outputs": [],
      "source": [
        "# Initialize OneHotEncoder with dense output\n",
        "encoder = OneHotEncoder(sparse_output=False)\n",
        "\n",
        "# Categorical columns to encode\n",
        "categorical_cols = ['Make', 'Model']\n",
        "\n",
        "def one_hot_encode_categorical_cols(\n",
        "    df: pd.DataFrame,\n",
        "    categorical_cols: list[str],\n",
        "    encoder: OneHotEncoder,\n",
        "    fit: bool = False\n",
        ") -> pd.DataFrame:\n",
        "    \"\"\"\n",
        "    One-hot encodes specified categorical columns in the DataFrame.\n",
        "\n",
        "    Parameters:\n",
        "    - df (pd.DataFrame): The input DataFrame.\n",
        "    - categorical_cols (list[str]): Column names to be one-hot encoded.\n",
        "    - encoder (OneHotEncoder): A scikit-learn OneHotEncoder instance.\n",
        "    - fit (bool): If True, fits the encoder before transforming; otherwise, assumes encoder is already fitted.\n",
        "\n",
        "    Returns:\n",
        "    - pd.DataFrame: DataFrame with categorical columns replaced by one-hot encoded features.\n",
        "    \"\"\"\n",
        "    if fit:\n",
        "        encoded_data = encoder.fit_transform(df[categorical_cols])\n",
        "        joblib.dump(encoder, 'encoder.pkl') # Save the fitted scaler for reuse\n",
        "    else:\n",
        "        encoded_data = encoder.transform(df[categorical_cols])\n",
        "\n",
        "    # Create DataFrame from encoded array\n",
        "    encoded_df = pd.DataFrame(\n",
        "        encoded_data,\n",
        "        columns=encoder.get_feature_names_out(categorical_cols),\n",
        "        index=df.index\n",
        "    )\n",
        "\n",
        "    # Drop original categorical columns and concatenate encoded columns\n",
        "    df = df.drop(columns=categorical_cols)\n",
        "    return pd.concat([df, encoded_df], axis=1)\n",
        "\n",
        "# Apply one-hot encoding to the DataFrame\n",
        "df_encoded = one_hot_encode_categorical_cols(df, categorical_cols, encoder, fit=True)"
      ]
    },
    {
      "cell_type": "markdown",
      "source": [
        "# Scale Km & Year Cols"
      ],
      "metadata": {
        "id": "S_djVEEMga92"
      }
    },
    {
      "cell_type": "code",
      "execution_count": 4,
      "metadata": {
        "id": "94poCAJSuYZ4"
      },
      "outputs": [],
      "source": [
        "# Define numerical columns to scale\n",
        "numerical_cols = ['Kilometres', 'Year']\n",
        "scaler = StandardScaler()\n",
        "\n",
        "def scale_numerical_cols(\n",
        "    df: pd.DataFrame,\n",
        "    numerical_cols: list[str],\n",
        "    scaler: StandardScaler,\n",
        "    fit: bool = False\n",
        ") -> pd.DataFrame:\n",
        "    \"\"\"\n",
        "    Scales numerical columns in the DataFrame using the provided scaler.\n",
        "\n",
        "    Parameters:\n",
        "    - df (pd.DataFrame): The input DataFrame.\n",
        "    - numerical_cols (list[str]): List of column names to be scaled.\n",
        "    - scaler (StandardScaler): A scikit-learn scaler (e.g., StandardScaler, MinMaxScaler).\n",
        "    - fit (bool): If True, fits the scaler to the data before transforming. If False, uses a pre-fitted scaler.\n",
        "\n",
        "    Returns:\n",
        "    - pd.DataFrame: A DataFrame with scaled numerical columns and original non-numerical columns.\n",
        "    \"\"\"\n",
        "    # Separate numerical and non-numerical columns\n",
        "    numerical_data = df[numerical_cols]\n",
        "    other_data = df.drop(columns=numerical_cols)\n",
        "\n",
        "    # Fit and/or transform the numerical columns\n",
        "    if fit:\n",
        "        scaled_values = scaler.fit_transform(numerical_data)\n",
        "        joblib.dump(scaler, 'scaler_x.pkl')  # Save the fitted scaler for reuse\n",
        "    else:\n",
        "        scaled_values = scaler.transform(numerical_data)\n",
        "\n",
        "    # Create DataFrame for scaled values with original indices\n",
        "    scaled_df = pd.DataFrame(scaled_values, columns=numerical_cols, index=df.index)\n",
        "\n",
        "    # Combine scaled numerical data with unscaled data\n",
        "    return pd.concat([scaled_df, other_data], axis=1)\n",
        "\n",
        "# Apply scaling to the encoded DataFrame\n",
        "df_scaled = scale_numerical_cols(df_encoded, numerical_cols, scaler, fit=True)"
      ]
    },
    {
      "cell_type": "markdown",
      "source": [
        "# Split Data into Train / Test"
      ],
      "metadata": {
        "id": "WVpudjKkg8Vu"
      }
    },
    {
      "cell_type": "code",
      "execution_count": 5,
      "metadata": {
        "colab": {
          "base_uri": "https://localhost:8080/"
        },
        "id": "33lpf1MmwjVi",
        "outputId": "4e6c3b7f-523b-44f1-bb1d-2ed9b3c58620"
      },
      "outputs": [
        {
          "output_type": "execute_result",
          "data": {
            "text/plain": [
              "['scaler_y.pkl']"
            ]
          },
          "metadata": {},
          "execution_count": 5
        }
      ],
      "source": [
        "# Separate features and target\n",
        "X = df_scaled.drop('Price', axis=1)\n",
        "Y = df_scaled['Price']  # Preserves the original (unscaled) price\n",
        "\n",
        "# Split into train and test sets (still unscaled)\n",
        "X_train, X_test, y_train, y_test = train_test_split(\n",
        "    X.values, Y.values, test_size=0.2, shuffle=True, random_state=42\n",
        ")\n",
        "\n",
        "# Scale the training target only (to avoid data leakage)\n",
        "scaler_y = StandardScaler()\n",
        "y_train_scaled = scaler_y.fit_transform(y_train.reshape(-1, 1))\n",
        "y_test_scaled = scaler_y.transform(y_test.reshape(-1, 1))\n",
        "\n",
        "# Save the fitted scaler after training\n",
        "joblib.dump(scaler_y, 'scaler_y.pkl')"
      ]
    },
    {
      "cell_type": "markdown",
      "source": [
        "# Create Model"
      ],
      "metadata": {
        "id": "EcM9SDztkQ_G"
      }
    },
    {
      "cell_type": "code",
      "execution_count": 6,
      "metadata": {
        "colab": {
          "base_uri": "https://localhost:8080/"
        },
        "id": "c5symonowzfd",
        "outputId": "d9ca1809-d6b4-49fa-d7e4-7ecd30e5c7de"
      },
      "outputs": [
        {
          "output_type": "stream",
          "name": "stderr",
          "text": [
            "/usr/local/lib/python3.11/dist-packages/keras/src/layers/core/dense.py:87: UserWarning: Do not pass an `input_shape`/`input_dim` argument to a layer. When using Sequential models, prefer using an `Input(shape)` object as the first layer in the model instead.\n",
            "  super().__init__(activity_regularizer=activity_regularizer, **kwargs)\n"
          ]
        }
      ],
      "source": [
        "model = Sequential()\n",
        "model.add(Dense(units=64, activation='relu', input_dim=X_train.shape[1]))\n",
        "model.add(Dense(units=32, activation='relu'))\n",
        "model.add(Dense(units=1, activation='linear'))  # Good: linear output for regression"
      ]
    },
    {
      "cell_type": "code",
      "execution_count": 7,
      "metadata": {
        "id": "AAhTt_NkxPuc"
      },
      "outputs": [],
      "source": [
        "model.compile(optimizer='adam', loss='mean_squared_error', metrics=['mean_absolute_error'])"
      ]
    },
    {
      "cell_type": "code",
      "execution_count": 8,
      "metadata": {
        "id": "2XEXNEzKxvy_"
      },
      "outputs": [],
      "source": [
        "# Convert input features to float32\n",
        "X_train = X_train.astype(np.float32)\n",
        "X_test = X_test.astype(np.float32)\n",
        "\n",
        "# Convert scaled targets to float32 (used for training)\n",
        "y_train_scaled = y_train_scaled.astype(np.float32)\n",
        "y_test_scaled = y_test_scaled.astype(np.float32)"
      ]
    },
    {
      "cell_type": "markdown",
      "source": [
        "# Train Model"
      ],
      "metadata": {
        "id": "gcfds9S4kUIY"
      }
    },
    {
      "cell_type": "code",
      "execution_count": 10,
      "metadata": {
        "colab": {
          "base_uri": "https://localhost:8080/"
        },
        "id": "RviBls8MxQ0N",
        "outputId": "0af69f26-e002-42b2-bed9-d2fa86d7768d"
      },
      "outputs": [
        {
          "output_type": "stream",
          "name": "stdout",
          "text": [
            "Epoch 1/100\n",
            "\u001b[1m1179/1179\u001b[0m \u001b[32m━━━━━━━━━━━━━━━━━━━━\u001b[0m\u001b[37m\u001b[0m \u001b[1m11s\u001b[0m 7ms/step - loss: 182402528.0000 - mean_absolute_error: 11613.7852 - val_loss: 42617084.0000 - val_mean_absolute_error: 5706.3721\n",
            "Epoch 2/100\n",
            "\u001b[1m1179/1179\u001b[0m \u001b[32m━━━━━━━━━━━━━━━━━━━━\u001b[0m\u001b[37m\u001b[0m \u001b[1m6s\u001b[0m 4ms/step - loss: 31861438.0000 - mean_absolute_error: 4900.9326 - val_loss: 12119816.0000 - val_mean_absolute_error: 3035.7346\n",
            "Epoch 3/100\n",
            "\u001b[1m1179/1179\u001b[0m \u001b[32m━━━━━━━━━━━━━━━━━━━━\u001b[0m\u001b[37m\u001b[0m \u001b[1m4s\u001b[0m 3ms/step - loss: 9494092.0000 - mean_absolute_error: 2671.8386 - val_loss: 4192601.7500 - val_mean_absolute_error: 1781.6334\n",
            "Epoch 4/100\n",
            "\u001b[1m1179/1179\u001b[0m \u001b[32m━━━━━━━━━━━━━━━━━━━━\u001b[0m\u001b[37m\u001b[0m \u001b[1m4s\u001b[0m 4ms/step - loss: 3361795.0000 - mean_absolute_error: 1590.7496 - val_loss: 1571033.1250 - val_mean_absolute_error: 1088.0798\n",
            "Epoch 5/100\n",
            "\u001b[1m1179/1179\u001b[0m \u001b[32m━━━━━━━━━━━━━━━━━━━━\u001b[0m\u001b[37m\u001b[0m \u001b[1m4s\u001b[0m 3ms/step - loss: 1260238.1250 - mean_absolute_error: 972.1578 - val_loss: 607524.8125 - val_mean_absolute_error: 674.6336\n",
            "Epoch 6/100\n",
            "\u001b[1m1179/1179\u001b[0m \u001b[32m━━━━━━━━━━━━━━━━━━━━\u001b[0m\u001b[37m\u001b[0m \u001b[1m4s\u001b[0m 3ms/step - loss: 491150.7500 - mean_absolute_error: 603.2018 - val_loss: 235543.6719 - val_mean_absolute_error: 418.3406\n",
            "Epoch 7/100\n",
            "\u001b[1m1179/1179\u001b[0m \u001b[32m━━━━━━━━━━━━━━━━━━━━\u001b[0m\u001b[37m\u001b[0m \u001b[1m5s\u001b[0m 4ms/step - loss: 184394.2969 - mean_absolute_error: 364.6592 - val_loss: 12309.9980 - val_mean_absolute_error: 94.2242\n",
            "Epoch 8/100\n",
            "\u001b[1m1179/1179\u001b[0m \u001b[32m━━━━━━━━━━━━━━━━━━━━\u001b[0m\u001b[37m\u001b[0m \u001b[1m4s\u001b[0m 4ms/step - loss: 4406.1182 - mean_absolute_error: 47.6616 - val_loss: 20.9044 - val_mean_absolute_error: 3.6967\n",
            "Epoch 9/100\n",
            "\u001b[1m1179/1179\u001b[0m \u001b[32m━━━━━━━━━━━━━━━━━━━━\u001b[0m\u001b[37m\u001b[0m \u001b[1m4s\u001b[0m 3ms/step - loss: 21.3290 - mean_absolute_error: 3.6739 - val_loss: 19.6943 - val_mean_absolute_error: 3.5711\n",
            "Epoch 10/100\n",
            "\u001b[1m1179/1179\u001b[0m \u001b[32m━━━━━━━━━━━━━━━━━━━━\u001b[0m\u001b[37m\u001b[0m \u001b[1m4s\u001b[0m 4ms/step - loss: 20.9245 - mean_absolute_error: 3.5744 - val_loss: 18.1954 - val_mean_absolute_error: 3.4302\n",
            "Epoch 11/100\n",
            "\u001b[1m1179/1179\u001b[0m \u001b[32m━━━━━━━━━━━━━━━━━━━━\u001b[0m\u001b[37m\u001b[0m \u001b[1m5s\u001b[0m 3ms/step - loss: 19.2440 - mean_absolute_error: 3.4174 - val_loss: 15.9715 - val_mean_absolute_error: 3.2129\n",
            "Epoch 12/100\n",
            "\u001b[1m1179/1179\u001b[0m \u001b[32m━━━━━━━━━━━━━━━━━━━━\u001b[0m\u001b[37m\u001b[0m \u001b[1m7s\u001b[0m 5ms/step - loss: 18.9642 - mean_absolute_error: 3.1752 - val_loss: 12.9458 - val_mean_absolute_error: 2.8916\n",
            "Epoch 13/100\n",
            "\u001b[1m1179/1179\u001b[0m \u001b[32m━━━━━━━━━━━━━━━━━━━━\u001b[0m\u001b[37m\u001b[0m \u001b[1m8s\u001b[0m 3ms/step - loss: 12.5316 - mean_absolute_error: 2.8365 - val_loss: 9.9866 - val_mean_absolute_error: 2.5482\n",
            "Epoch 14/100\n",
            "\u001b[1m1179/1179\u001b[0m \u001b[32m━━━━━━━━━━━━━━━━━━━━\u001b[0m\u001b[37m\u001b[0m \u001b[1m6s\u001b[0m 4ms/step - loss: 10.5100 - mean_absolute_error: 2.3487 - val_loss: 5.5847 - val_mean_absolute_error: 1.8913\n",
            "Epoch 15/100\n",
            "\u001b[1m1179/1179\u001b[0m \u001b[32m━━━━━━━━━━━━━━━━━━━━\u001b[0m\u001b[37m\u001b[0m \u001b[1m4s\u001b[0m 3ms/step - loss: 6.3592 - mean_absolute_error: 1.7617 - val_loss: 2.6154 - val_mean_absolute_error: 1.2668\n",
            "Epoch 16/100\n",
            "\u001b[1m1179/1179\u001b[0m \u001b[32m━━━━━━━━━━━━━━━━━━━━\u001b[0m\u001b[37m\u001b[0m \u001b[1m4s\u001b[0m 3ms/step - loss: 2.8912 - mean_absolute_error: 1.1392 - val_loss: 0.9077 - val_mean_absolute_error: 0.7122\n",
            "Epoch 17/100\n",
            "\u001b[1m1179/1179\u001b[0m \u001b[32m━━━━━━━━━━━━━━━━━━━━\u001b[0m\u001b[37m\u001b[0m \u001b[1m5s\u001b[0m 4ms/step - loss: 1.9338 - mean_absolute_error: 0.6321 - val_loss: 0.2884 - val_mean_absolute_error: 0.3621\n",
            "Epoch 18/100\n",
            "\u001b[1m1179/1179\u001b[0m \u001b[32m━━━━━━━━━━━━━━━━━━━━\u001b[0m\u001b[37m\u001b[0m \u001b[1m4s\u001b[0m 3ms/step - loss: 1.3185 - mean_absolute_error: 0.3450 - val_loss: 0.1360 - val_mean_absolute_error: 0.2316\n",
            "Epoch 19/100\n",
            "\u001b[1m1179/1179\u001b[0m \u001b[32m━━━━━━━━━━━━━━━━━━━━\u001b[0m\u001b[37m\u001b[0m \u001b[1m5s\u001b[0m 3ms/step - loss: 0.7198 - mean_absolute_error: 0.2325 - val_loss: 0.0903 - val_mean_absolute_error: 0.1672\n",
            "Epoch 20/100\n",
            "\u001b[1m1179/1179\u001b[0m \u001b[32m━━━━━━━━━━━━━━━━━━━━\u001b[0m\u001b[37m\u001b[0m \u001b[1m6s\u001b[0m 4ms/step - loss: 0.8647 - mean_absolute_error: 0.1945 - val_loss: 0.0738 - val_mean_absolute_error: 0.1631\n",
            "Epoch 21/100\n",
            "\u001b[1m1179/1179\u001b[0m \u001b[32m━━━━━━━━━━━━━━━━━━━━\u001b[0m\u001b[37m\u001b[0m \u001b[1m4s\u001b[0m 3ms/step - loss: 0.8882 - mean_absolute_error: 0.1643 - val_loss: 0.0543 - val_mean_absolute_error: 0.1222\n",
            "Epoch 22/100\n",
            "\u001b[1m1179/1179\u001b[0m \u001b[32m━━━━━━━━━━━━━━━━━━━━\u001b[0m\u001b[37m\u001b[0m \u001b[1m7s\u001b[0m 5ms/step - loss: 0.2988 - mean_absolute_error: 0.1302 - val_loss: 0.0518 - val_mean_absolute_error: 0.1351\n",
            "Epoch 23/100\n",
            "\u001b[1m1179/1179\u001b[0m \u001b[32m━━━━━━━━━━━━━━━━━━━━\u001b[0m\u001b[37m\u001b[0m \u001b[1m4s\u001b[0m 3ms/step - loss: 0.6742 - mean_absolute_error: 0.1407 - val_loss: 0.0347 - val_mean_absolute_error: 0.1011\n",
            "Epoch 24/100\n",
            "\u001b[1m1179/1179\u001b[0m \u001b[32m━━━━━━━━━━━━━━━━━━━━\u001b[0m\u001b[37m\u001b[0m \u001b[1m4s\u001b[0m 3ms/step - loss: 1.0070 - mean_absolute_error: 0.1570 - val_loss: 0.0257 - val_mean_absolute_error: 0.0827\n",
            "Epoch 25/100\n",
            "\u001b[1m1179/1179\u001b[0m \u001b[32m━━━━━━━━━━━━━━━━━━━━\u001b[0m\u001b[37m\u001b[0m \u001b[1m6s\u001b[0m 4ms/step - loss: 0.7133 - mean_absolute_error: 0.1447 - val_loss: 0.0260 - val_mean_absolute_error: 0.0895\n",
            "Epoch 26/100\n",
            "\u001b[1m1179/1179\u001b[0m \u001b[32m━━━━━━━━━━━━━━━━━━━━\u001b[0m\u001b[37m\u001b[0m \u001b[1m4s\u001b[0m 3ms/step - loss: 1.1139 - mean_absolute_error: 0.1520 - val_loss: 0.0338 - val_mean_absolute_error: 0.1268\n",
            "Epoch 27/100\n",
            "\u001b[1m1179/1179\u001b[0m \u001b[32m━━━━━━━━━━━━━━━━━━━━\u001b[0m\u001b[37m\u001b[0m \u001b[1m4s\u001b[0m 3ms/step - loss: 1.2769 - mean_absolute_error: 0.1411 - val_loss: 0.0312 - val_mean_absolute_error: 0.0882\n",
            "Epoch 28/100\n",
            "\u001b[1m1179/1179\u001b[0m \u001b[32m━━━━━━━━━━━━━━━━━━━━\u001b[0m\u001b[37m\u001b[0m \u001b[1m5s\u001b[0m 3ms/step - loss: 0.3359 - mean_absolute_error: 0.1108 - val_loss: 0.0391 - val_mean_absolute_error: 0.1229\n",
            "Epoch 29/100\n",
            "\u001b[1m1179/1179\u001b[0m \u001b[32m━━━━━━━━━━━━━━━━━━━━\u001b[0m\u001b[37m\u001b[0m \u001b[1m4s\u001b[0m 3ms/step - loss: 0.4582 - mean_absolute_error: 0.1146 - val_loss: 0.0547 - val_mean_absolute_error: 0.1372\n",
            "Epoch 30/100\n",
            "\u001b[1m1179/1179\u001b[0m \u001b[32m━━━━━━━━━━━━━━━━━━━━\u001b[0m\u001b[37m\u001b[0m \u001b[1m4s\u001b[0m 4ms/step - loss: 2.4300 - mean_absolute_error: 0.2265 - val_loss: 0.0192 - val_mean_absolute_error: 0.0706\n",
            "Epoch 31/100\n",
            "\u001b[1m1179/1179\u001b[0m \u001b[32m━━━━━━━━━━━━━━━━━━━━\u001b[0m\u001b[37m\u001b[0m \u001b[1m5s\u001b[0m 3ms/step - loss: 0.7113 - mean_absolute_error: 0.1306 - val_loss: 0.0284 - val_mean_absolute_error: 0.0918\n",
            "Epoch 32/100\n",
            "\u001b[1m1179/1179\u001b[0m \u001b[32m━━━━━━━━━━━━━━━━━━━━\u001b[0m\u001b[37m\u001b[0m \u001b[1m5s\u001b[0m 3ms/step - loss: 1.7944 - mean_absolute_error: 0.1989 - val_loss: 0.0234 - val_mean_absolute_error: 0.0783\n",
            "Epoch 33/100\n",
            "\u001b[1m1179/1179\u001b[0m \u001b[32m━━━━━━━━━━━━━━━━━━━━\u001b[0m\u001b[37m\u001b[0m \u001b[1m6s\u001b[0m 4ms/step - loss: 2.2738 - mean_absolute_error: 0.2228 - val_loss: 0.0255 - val_mean_absolute_error: 0.0753\n",
            "Epoch 34/100\n",
            "\u001b[1m1179/1179\u001b[0m \u001b[32m━━━━━━━━━━━━━━━━━━━━\u001b[0m\u001b[37m\u001b[0m \u001b[1m4s\u001b[0m 3ms/step - loss: 0.8546 - mean_absolute_error: 0.1399 - val_loss: 0.0486 - val_mean_absolute_error: 0.1368\n",
            "Epoch 35/100\n",
            "\u001b[1m1179/1179\u001b[0m \u001b[32m━━━━━━━━━━━━━━━━━━━━\u001b[0m\u001b[37m\u001b[0m \u001b[1m5s\u001b[0m 4ms/step - loss: 0.3941 - mean_absolute_error: 0.1096 - val_loss: 0.0734 - val_mean_absolute_error: 0.1324\n",
            "Epoch 36/100\n",
            "\u001b[1m1179/1179\u001b[0m \u001b[32m━━━━━━━━━━━━━━━━━━━━\u001b[0m\u001b[37m\u001b[0m \u001b[1m4s\u001b[0m 4ms/step - loss: 2.1167 - mean_absolute_error: 0.2404 - val_loss: 0.0370 - val_mean_absolute_error: 0.0827\n",
            "Epoch 37/100\n",
            "\u001b[1m1179/1179\u001b[0m \u001b[32m━━━━━━━━━━━━━━━━━━━━\u001b[0m\u001b[37m\u001b[0m \u001b[1m4s\u001b[0m 3ms/step - loss: 0.3906 - mean_absolute_error: 0.1090 - val_loss: 0.1113 - val_mean_absolute_error: 0.1992\n",
            "Epoch 38/100\n",
            "\u001b[1m1179/1179\u001b[0m \u001b[32m━━━━━━━━━━━━━━━━━━━━\u001b[0m\u001b[37m\u001b[0m \u001b[1m6s\u001b[0m 4ms/step - loss: 0.9978 - mean_absolute_error: 0.1623 - val_loss: 0.0492 - val_mean_absolute_error: 0.0797\n",
            "Epoch 39/100\n",
            "\u001b[1m1179/1179\u001b[0m \u001b[32m━━━━━━━━━━━━━━━━━━━━\u001b[0m\u001b[37m\u001b[0m \u001b[1m5s\u001b[0m 4ms/step - loss: 2.3514 - mean_absolute_error: 0.2391 - val_loss: 0.0561 - val_mean_absolute_error: 0.0816\n",
            "Epoch 40/100\n",
            "\u001b[1m1179/1179\u001b[0m \u001b[32m━━━━━━━━━━━━━━━━━━━━\u001b[0m\u001b[37m\u001b[0m \u001b[1m5s\u001b[0m 3ms/step - loss: 4.6605 - mean_absolute_error: 0.3459 - val_loss: 1.2536 - val_mean_absolute_error: 0.9774\n",
            "Epoch 41/100\n",
            "\u001b[1m1179/1179\u001b[0m \u001b[32m━━━━━━━━━━━━━━━━━━━━\u001b[0m\u001b[37m\u001b[0m \u001b[1m5s\u001b[0m 4ms/step - loss: 0.3005 - mean_absolute_error: 0.1852 - val_loss: 0.1335 - val_mean_absolute_error: 0.1418\n",
            "Epoch 42/100\n",
            "\u001b[1m1179/1179\u001b[0m \u001b[32m━━━━━━━━━━━━━━━━━━━━\u001b[0m\u001b[37m\u001b[0m \u001b[1m4s\u001b[0m 3ms/step - loss: 2.5096 - mean_absolute_error: 0.2585 - val_loss: 0.0878 - val_mean_absolute_error: 0.0874\n",
            "Epoch 43/100\n",
            "\u001b[1m1179/1179\u001b[0m \u001b[32m━━━━━━━━━━━━━━━━━━━━\u001b[0m\u001b[37m\u001b[0m \u001b[1m5s\u001b[0m 4ms/step - loss: 0.7452 - mean_absolute_error: 0.1522 - val_loss: 0.0987 - val_mean_absolute_error: 0.0893\n",
            "Epoch 44/100\n",
            "\u001b[1m1179/1179\u001b[0m \u001b[32m━━━━━━━━━━━━━━━━━━━━\u001b[0m\u001b[37m\u001b[0m \u001b[1m4s\u001b[0m 3ms/step - loss: 0.4310 - mean_absolute_error: 0.1172 - val_loss: 0.1087 - val_mean_absolute_error: 0.0955\n",
            "Epoch 45/100\n",
            "\u001b[1m1179/1179\u001b[0m \u001b[32m━━━━━━━━━━━━━━━━━━━━\u001b[0m\u001b[37m\u001b[0m \u001b[1m4s\u001b[0m 4ms/step - loss: 0.7237 - mean_absolute_error: 0.1449 - val_loss: 0.1112 - val_mean_absolute_error: 0.1001\n",
            "Epoch 46/100\n",
            "\u001b[1m1179/1179\u001b[0m \u001b[32m━━━━━━━━━━━━━━━━━━━━\u001b[0m\u001b[37m\u001b[0m \u001b[1m6s\u001b[0m 4ms/step - loss: 1.0763 - mean_absolute_error: 0.1855 - val_loss: 0.1109 - val_mean_absolute_error: 0.0812\n",
            "Epoch 47/100\n",
            "\u001b[1m1179/1179\u001b[0m \u001b[32m━━━━━━━━━━━━━━━━━━━━\u001b[0m\u001b[37m\u001b[0m \u001b[1m4s\u001b[0m 3ms/step - loss: 2.9793 - mean_absolute_error: 0.2663 - val_loss: 0.1322 - val_mean_absolute_error: 0.0982\n",
            "Epoch 48/100\n",
            "\u001b[1m1179/1179\u001b[0m \u001b[32m━━━━━━━━━━━━━━━━━━━━\u001b[0m\u001b[37m\u001b[0m \u001b[1m4s\u001b[0m 3ms/step - loss: 0.5160 - mean_absolute_error: 0.1600 - val_loss: 0.1358 - val_mean_absolute_error: 0.0960\n",
            "Epoch 49/100\n",
            "\u001b[1m1179/1179\u001b[0m \u001b[32m━━━━━━━━━━━━━━━━━━━━\u001b[0m\u001b[37m\u001b[0m \u001b[1m6s\u001b[0m 4ms/step - loss: 1.3771 - mean_absolute_error: 0.1827 - val_loss: 0.1760 - val_mean_absolute_error: 0.1553\n",
            "Epoch 50/100\n",
            "\u001b[1m1179/1179\u001b[0m \u001b[32m━━━━━━━━━━━━━━━━━━━━\u001b[0m\u001b[37m\u001b[0m \u001b[1m4s\u001b[0m 3ms/step - loss: 1.1092 - mean_absolute_error: 0.2079 - val_loss: 0.1524 - val_mean_absolute_error: 0.0963\n",
            "Epoch 51/100\n",
            "\u001b[1m1179/1179\u001b[0m \u001b[32m━━━━━━━━━━━━━━━━━━━━\u001b[0m\u001b[37m\u001b[0m \u001b[1m5s\u001b[0m 4ms/step - loss: 0.6032 - mean_absolute_error: 0.1465 - val_loss: 0.1550 - val_mean_absolute_error: 0.0915\n",
            "Epoch 52/100\n",
            "\u001b[1m1179/1179\u001b[0m \u001b[32m━━━━━━━━━━━━━━━━━━━━\u001b[0m\u001b[37m\u001b[0m \u001b[1m5s\u001b[0m 3ms/step - loss: 0.8192 - mean_absolute_error: 0.1471 - val_loss: 0.2291 - val_mean_absolute_error: 0.2104\n",
            "Epoch 53/100\n",
            "\u001b[1m1179/1179\u001b[0m \u001b[32m━━━━━━━━━━━━━━━━━━━━\u001b[0m\u001b[37m\u001b[0m \u001b[1m4s\u001b[0m 3ms/step - loss: 0.7603 - mean_absolute_error: 0.1566 - val_loss: 0.1765 - val_mean_absolute_error: 0.1003\n",
            "Epoch 54/100\n",
            "\u001b[1m1179/1179\u001b[0m \u001b[32m━━━━━━━━━━━━━━━━━━━━\u001b[0m\u001b[37m\u001b[0m \u001b[1m5s\u001b[0m 4ms/step - loss: 0.3034 - mean_absolute_error: 0.1162 - val_loss: 0.2024 - val_mean_absolute_error: 0.1137\n",
            "Epoch 55/100\n",
            "\u001b[1m1179/1179\u001b[0m \u001b[32m━━━━━━━━━━━━━━━━━━━━\u001b[0m\u001b[37m\u001b[0m \u001b[1m9s\u001b[0m 4ms/step - loss: 1.1848 - mean_absolute_error: 0.1809 - val_loss: 0.2434 - val_mean_absolute_error: 0.1651\n",
            "Epoch 56/100\n",
            "\u001b[1m1179/1179\u001b[0m \u001b[32m━━━━━━━━━━━━━━━━━━━━\u001b[0m\u001b[37m\u001b[0m \u001b[1m5s\u001b[0m 4ms/step - loss: 0.4539 - mean_absolute_error: 0.1488 - val_loss: 0.2062 - val_mean_absolute_error: 0.1260\n",
            "Epoch 57/100\n",
            "\u001b[1m1179/1179\u001b[0m \u001b[32m━━━━━━━━━━━━━━━━━━━━\u001b[0m\u001b[37m\u001b[0m \u001b[1m4s\u001b[0m 3ms/step - loss: 0.7844 - mean_absolute_error: 0.1782 - val_loss: 0.1924 - val_mean_absolute_error: 0.1073\n",
            "Epoch 58/100\n",
            "\u001b[1m1179/1179\u001b[0m \u001b[32m━━━━━━━━━━━━━━━━━━━━\u001b[0m\u001b[37m\u001b[0m \u001b[1m5s\u001b[0m 4ms/step - loss: 0.7458 - mean_absolute_error: 0.1470 - val_loss: 0.2000 - val_mean_absolute_error: 0.0994\n",
            "Epoch 59/100\n",
            "\u001b[1m1179/1179\u001b[0m \u001b[32m━━━━━━━━━━━━━━━━━━━━\u001b[0m\u001b[37m\u001b[0m \u001b[1m9s\u001b[0m 3ms/step - loss: 0.6221 - mean_absolute_error: 0.1518 - val_loss: 0.2002 - val_mean_absolute_error: 0.1053\n",
            "Epoch 60/100\n",
            "\u001b[1m1179/1179\u001b[0m \u001b[32m━━━━━━━━━━━━━━━━━━━━\u001b[0m\u001b[37m\u001b[0m \u001b[1m5s\u001b[0m 5ms/step - loss: 0.8753 - mean_absolute_error: 0.1545 - val_loss: 0.2048 - val_mean_absolute_error: 0.0962\n",
            "Epoch 61/100\n",
            "\u001b[1m1179/1179\u001b[0m \u001b[32m━━━━━━━━━━━━━━━━━━━━\u001b[0m\u001b[37m\u001b[0m \u001b[1m9s\u001b[0m 4ms/step - loss: 0.4034 - mean_absolute_error: 0.1515 - val_loss: 0.2061 - val_mean_absolute_error: 0.0999\n",
            "Epoch 62/100\n",
            "\u001b[1m1179/1179\u001b[0m \u001b[32m━━━━━━━━━━━━━━━━━━━━\u001b[0m\u001b[37m\u001b[0m \u001b[1m5s\u001b[0m 3ms/step - loss: 0.0486 - mean_absolute_error: 0.0987 - val_loss: 2.1464 - val_mean_absolute_error: 1.1912\n",
            "Epoch 63/100\n",
            "\u001b[1m1179/1179\u001b[0m \u001b[32m━━━━━━━━━━━━━━━━━━━━\u001b[0m\u001b[37m\u001b[0m \u001b[1m4s\u001b[0m 3ms/step - loss: 0.9820 - mean_absolute_error: 0.3063 - val_loss: 0.2050 - val_mean_absolute_error: 0.0939\n",
            "Epoch 64/100\n",
            "\u001b[1m1179/1179\u001b[0m \u001b[32m━━━━━━━━━━━━━━━━━━━━\u001b[0m\u001b[37m\u001b[0m \u001b[1m5s\u001b[0m 4ms/step - loss: 1.4493 - mean_absolute_error: 0.1936 - val_loss: 0.2138 - val_mean_absolute_error: 0.1003\n",
            "Epoch 65/100\n",
            "\u001b[1m1179/1179\u001b[0m \u001b[32m━━━━━━━━━━━━━━━━━━━━\u001b[0m\u001b[37m\u001b[0m \u001b[1m4s\u001b[0m 3ms/step - loss: 0.4027 - mean_absolute_error: 0.1103 - val_loss: 0.2621 - val_mean_absolute_error: 0.1431\n",
            "Epoch 66/100\n",
            "\u001b[1m1179/1179\u001b[0m \u001b[32m━━━━━━━━━━━━━━━━━━━━\u001b[0m\u001b[37m\u001b[0m \u001b[1m5s\u001b[0m 3ms/step - loss: 0.1097 - mean_absolute_error: 0.0986 - val_loss: 0.3264 - val_mean_absolute_error: 0.1876\n",
            "Epoch 67/100\n",
            "\u001b[1m1179/1179\u001b[0m \u001b[32m━━━━━━━━━━━━━━━━━━━━\u001b[0m\u001b[37m\u001b[0m \u001b[1m5s\u001b[0m 4ms/step - loss: 0.2356 - mean_absolute_error: 0.1288 - val_loss: 0.2485 - val_mean_absolute_error: 0.1415\n",
            "Epoch 68/100\n",
            "\u001b[1m1179/1179\u001b[0m \u001b[32m━━━━━━━━━━━━━━━━━━━━\u001b[0m\u001b[37m\u001b[0m \u001b[1m4s\u001b[0m 3ms/step - loss: 0.1688 - mean_absolute_error: 0.1038 - val_loss: 0.2759 - val_mean_absolute_error: 0.1800\n",
            "Epoch 69/100\n",
            "\u001b[1m1179/1179\u001b[0m \u001b[32m━━━━━━━━━━━━━━━━━━━━\u001b[0m\u001b[37m\u001b[0m \u001b[1m4s\u001b[0m 3ms/step - loss: 3.3068 - mean_absolute_error: 0.2541 - val_loss: 0.2202 - val_mean_absolute_error: 0.0993\n",
            "Epoch 70/100\n",
            "\u001b[1m1179/1179\u001b[0m \u001b[32m━━━━━━━━━━━━━━━━━━━━\u001b[0m\u001b[37m\u001b[0m \u001b[1m6s\u001b[0m 4ms/step - loss: 0.2183 - mean_absolute_error: 0.0969 - val_loss: 0.2306 - val_mean_absolute_error: 0.0945\n",
            "Epoch 71/100\n",
            "\u001b[1m1179/1179\u001b[0m \u001b[32m━━━━━━━━━━━━━━━━━━━━\u001b[0m\u001b[37m\u001b[0m \u001b[1m4s\u001b[0m 3ms/step - loss: 5.5440 - mean_absolute_error: 0.2841 - val_loss: 0.2197 - val_mean_absolute_error: 0.0835\n",
            "Epoch 72/100\n",
            "\u001b[1m1179/1179\u001b[0m \u001b[32m━━━━━━━━━━━━━━━━━━━━\u001b[0m\u001b[37m\u001b[0m \u001b[1m5s\u001b[0m 4ms/step - loss: 0.2195 - mean_absolute_error: 0.0927 - val_loss: 0.2613 - val_mean_absolute_error: 0.1061\n",
            "Epoch 73/100\n",
            "\u001b[1m1179/1179\u001b[0m \u001b[32m━━━━━━━━━━━━━━━━━━━━\u001b[0m\u001b[37m\u001b[0m \u001b[1m4s\u001b[0m 3ms/step - loss: 0.5786 - mean_absolute_error: 0.1146 - val_loss: 0.2324 - val_mean_absolute_error: 0.0871\n",
            "Epoch 74/100\n",
            "\u001b[1m1179/1179\u001b[0m \u001b[32m━━━━━━━━━━━━━━━━━━━━\u001b[0m\u001b[37m\u001b[0m \u001b[1m5s\u001b[0m 3ms/step - loss: 0.1230 - mean_absolute_error: 0.0800 - val_loss: 0.2376 - val_mean_absolute_error: 0.1155\n",
            "Epoch 75/100\n",
            "\u001b[1m1179/1179\u001b[0m \u001b[32m━━━━━━━━━━━━━━━━━━━━\u001b[0m\u001b[37m\u001b[0m \u001b[1m5s\u001b[0m 4ms/step - loss: 1.1640 - mean_absolute_error: 0.1453 - val_loss: 0.2366 - val_mean_absolute_error: 0.0851\n",
            "Epoch 76/100\n",
            "\u001b[1m1179/1179\u001b[0m \u001b[32m━━━━━━━━━━━━━━━━━━━━\u001b[0m\u001b[37m\u001b[0m \u001b[1m4s\u001b[0m 3ms/step - loss: 0.6265 - mean_absolute_error: 0.1166 - val_loss: 0.2002 - val_mean_absolute_error: 0.0742\n",
            "Epoch 77/100\n",
            "\u001b[1m1179/1179\u001b[0m \u001b[32m━━━━━━━━━━━━━━━━━━━━\u001b[0m\u001b[37m\u001b[0m \u001b[1m4s\u001b[0m 3ms/step - loss: 0.5084 - mean_absolute_error: 0.1081 - val_loss: 0.2209 - val_mean_absolute_error: 0.0830\n",
            "Epoch 78/100\n",
            "\u001b[1m1179/1179\u001b[0m \u001b[32m━━━━━━━━━━━━━━━━━━━━\u001b[0m\u001b[37m\u001b[0m \u001b[1m6s\u001b[0m 4ms/step - loss: 0.3075 - mean_absolute_error: 0.0841 - val_loss: 0.2634 - val_mean_absolute_error: 0.1234\n",
            "Epoch 79/100\n",
            "\u001b[1m1179/1179\u001b[0m \u001b[32m━━━━━━━━━━━━━━━━━━━━\u001b[0m\u001b[37m\u001b[0m \u001b[1m4s\u001b[0m 3ms/step - loss: 0.1238 - mean_absolute_error: 0.0791 - val_loss: 0.2262 - val_mean_absolute_error: 0.1042\n",
            "Epoch 80/100\n",
            "\u001b[1m1179/1179\u001b[0m \u001b[32m━━━━━━━━━━━━━━━━━━━━\u001b[0m\u001b[37m\u001b[0m \u001b[1m5s\u001b[0m 4ms/step - loss: 0.3546 - mean_absolute_error: 0.0953 - val_loss: 0.1911 - val_mean_absolute_error: 0.0751\n",
            "Epoch 81/100\n",
            "\u001b[1m1179/1179\u001b[0m \u001b[32m━━━━━━━━━━━━━━━━━━━━\u001b[0m\u001b[37m\u001b[0m \u001b[1m4s\u001b[0m 4ms/step - loss: 0.2870 - mean_absolute_error: 0.0851 - val_loss: 0.1708 - val_mean_absolute_error: 0.0801\n",
            "Epoch 82/100\n",
            "\u001b[1m1179/1179\u001b[0m \u001b[32m━━━━━━━━━━━━━━━━━━━━\u001b[0m\u001b[37m\u001b[0m \u001b[1m5s\u001b[0m 3ms/step - loss: 0.3697 - mean_absolute_error: 0.0906 - val_loss: 0.1932 - val_mean_absolute_error: 0.0691\n",
            "Epoch 83/100\n",
            "\u001b[1m1179/1179\u001b[0m \u001b[32m━━━━━━━━━━━━━━━━━━━━\u001b[0m\u001b[37m\u001b[0m \u001b[1m5s\u001b[0m 4ms/step - loss: 1.0677 - mean_absolute_error: 0.1170 - val_loss: 0.2281 - val_mean_absolute_error: 0.0688\n",
            "Epoch 84/100\n",
            "\u001b[1m1179/1179\u001b[0m \u001b[32m━━━━━━━━━━━━━━━━━━━━\u001b[0m\u001b[37m\u001b[0m \u001b[1m4s\u001b[0m 3ms/step - loss: 0.6594 - mean_absolute_error: 0.0941 - val_loss: 0.1916 - val_mean_absolute_error: 0.0682\n",
            "Epoch 85/100\n",
            "\u001b[1m1179/1179\u001b[0m \u001b[32m━━━━━━━━━━━━━━━━━━━━\u001b[0m\u001b[37m\u001b[0m \u001b[1m6s\u001b[0m 4ms/step - loss: 0.3051 - mean_absolute_error: 0.0747 - val_loss: 0.1530 - val_mean_absolute_error: 0.0706\n",
            "Epoch 86/100\n",
            "\u001b[1m1179/1179\u001b[0m \u001b[32m━━━━━━━━━━━━━━━━━━━━\u001b[0m\u001b[37m\u001b[0m \u001b[1m5s\u001b[0m 4ms/step - loss: 1.4714 - mean_absolute_error: 0.1330 - val_loss: 0.2340 - val_mean_absolute_error: 0.0662\n",
            "Epoch 87/100\n",
            "\u001b[1m1179/1179\u001b[0m \u001b[32m━━━━━━━━━━━━━━━━━━━━\u001b[0m\u001b[37m\u001b[0m \u001b[1m4s\u001b[0m 3ms/step - loss: 0.2292 - mean_absolute_error: 0.0701 - val_loss: 0.1570 - val_mean_absolute_error: 0.0748\n",
            "Epoch 88/100\n",
            "\u001b[1m1179/1179\u001b[0m \u001b[32m━━━━━━━━━━━━━━━━━━━━\u001b[0m\u001b[37m\u001b[0m \u001b[1m6s\u001b[0m 4ms/step - loss: 0.2120 - mean_absolute_error: 0.0758 - val_loss: 0.2287 - val_mean_absolute_error: 0.0760\n",
            "Epoch 89/100\n",
            "\u001b[1m1179/1179\u001b[0m \u001b[32m━━━━━━━━━━━━━━━━━━━━\u001b[0m\u001b[37m\u001b[0m \u001b[1m4s\u001b[0m 3ms/step - loss: 0.5596 - mean_absolute_error: 0.0881 - val_loss: 0.1734 - val_mean_absolute_error: 0.0709\n",
            "Epoch 90/100\n",
            "\u001b[1m1179/1179\u001b[0m \u001b[32m━━━━━━━━━━━━━━━━━━━━\u001b[0m\u001b[37m\u001b[0m \u001b[1m4s\u001b[0m 3ms/step - loss: 0.1558 - mean_absolute_error: 0.0656 - val_loss: 0.2122 - val_mean_absolute_error: 0.0778\n",
            "Epoch 91/100\n",
            "\u001b[1m1179/1179\u001b[0m \u001b[32m━━━━━━━━━━━━━━━━━━━━\u001b[0m\u001b[37m\u001b[0m \u001b[1m5s\u001b[0m 4ms/step - loss: 0.1351 - mean_absolute_error: 0.0668 - val_loss: 0.1870 - val_mean_absolute_error: 0.0795\n",
            "Epoch 92/100\n",
            "\u001b[1m1179/1179\u001b[0m \u001b[32m━━━━━━━━━━━━━━━━━━━━\u001b[0m\u001b[37m\u001b[0m \u001b[1m9s\u001b[0m 3ms/step - loss: 2.0170 - mean_absolute_error: 0.1250 - val_loss: 0.2948 - val_mean_absolute_error: 0.0770\n",
            "Epoch 93/100\n",
            "\u001b[1m1179/1179\u001b[0m \u001b[32m━━━━━━━━━━━━━━━━━━━━\u001b[0m\u001b[37m\u001b[0m \u001b[1m5s\u001b[0m 4ms/step - loss: 0.9959 - mean_absolute_error: 0.0987 - val_loss: 0.1825 - val_mean_absolute_error: 0.0599\n",
            "Epoch 94/100\n",
            "\u001b[1m1179/1179\u001b[0m \u001b[32m━━━━━━━━━━━━━━━━━━━━\u001b[0m\u001b[37m\u001b[0m \u001b[1m4s\u001b[0m 3ms/step - loss: 0.6747 - mean_absolute_error: 0.0753 - val_loss: 0.2254 - val_mean_absolute_error: 0.0619\n",
            "Epoch 95/100\n",
            "\u001b[1m1179/1179\u001b[0m \u001b[32m━━━━━━━━━━━━━━━━━━━━\u001b[0m\u001b[37m\u001b[0m \u001b[1m5s\u001b[0m 4ms/step - loss: 0.5077 - mean_absolute_error: 0.0738 - val_loss: 0.1582 - val_mean_absolute_error: 0.0615\n",
            "Epoch 96/100\n",
            "\u001b[1m1179/1179\u001b[0m \u001b[32m━━━━━━━━━━━━━━━━━━━━\u001b[0m\u001b[37m\u001b[0m \u001b[1m5s\u001b[0m 3ms/step - loss: 0.1645 - mean_absolute_error: 0.0616 - val_loss: 0.2250 - val_mean_absolute_error: 0.0729\n",
            "Epoch 97/100\n",
            "\u001b[1m1179/1179\u001b[0m \u001b[32m━━━━━━━━━━━━━━━━━━━━\u001b[0m\u001b[37m\u001b[0m \u001b[1m5s\u001b[0m 3ms/step - loss: 0.6029 - mean_absolute_error: 0.0734 - val_loss: 0.2438 - val_mean_absolute_error: 0.0659\n",
            "Epoch 98/100\n",
            "\u001b[1m1179/1179\u001b[0m \u001b[32m━━━━━━━━━━━━━━━━━━━━\u001b[0m\u001b[37m\u001b[0m \u001b[1m5s\u001b[0m 4ms/step - loss: 0.5006 - mean_absolute_error: 0.0769 - val_loss: 0.1333 - val_mean_absolute_error: 0.0601\n",
            "Epoch 99/100\n",
            "\u001b[1m1179/1179\u001b[0m \u001b[32m━━━━━━━━━━━━━━━━━━━━\u001b[0m\u001b[37m\u001b[0m \u001b[1m4s\u001b[0m 4ms/step - loss: 0.2531 - mean_absolute_error: 0.0592 - val_loss: 0.2149 - val_mean_absolute_error: 0.0700\n",
            "Epoch 100/100\n",
            "\u001b[1m1179/1179\u001b[0m \u001b[32m━━━━━━━━━━━━━━━━━━━━\u001b[0m\u001b[37m\u001b[0m \u001b[1m6s\u001b[0m 4ms/step - loss: 0.3907 - mean_absolute_error: 0.0666 - val_loss: 0.1339 - val_mean_absolute_error: 0.0586\n"
          ]
        },
        {
          "output_type": "execute_result",
          "data": {
            "text/plain": [
              "<keras.src.callbacks.history.History at 0x7f238ab17890>"
            ]
          },
          "metadata": {},
          "execution_count": 10
        }
      ],
      "source": [
        "# Train the model\n",
        "model.fit(X_train, y_train_scaled, epochs=100, batch_size=32, validation_split=0.2)"
      ]
    },
    {
      "cell_type": "markdown",
      "source": [
        "# Compare Price Diff"
      ],
      "metadata": {
        "id": "3zFLwhe2kXet"
      }
    },
    {
      "cell_type": "code",
      "execution_count": 11,
      "metadata": {
        "colab": {
          "base_uri": "https://localhost:8080/"
        },
        "id": "uPjaa1aUygvP",
        "outputId": "621d8cdb-25cd-4bc4-b4f9-958ac5ba9ddf"
      },
      "outputs": [
        {
          "output_type": "stream",
          "name": "stdout",
          "text": [
            "\u001b[1m369/369\u001b[0m \u001b[32m━━━━━━━━━━━━━━━━━━━━\u001b[0m\u001b[37m\u001b[0m \u001b[1m1s\u001b[0m 1ms/step\n",
            "Average error is $6169.04\n"
          ]
        }
      ],
      "source": [
        "# Save the trained model\n",
        "model.save('car_price_prediction_model.keras')\n",
        "\n",
        "# Predict on test set (scaled input → scaled output)\n",
        "y_pred_scaled = model.predict(X_test)\n",
        "\n",
        "# Inverse transform predictions and true labels to original price scale\n",
        "y_pred_original = scaler_y.inverse_transform(y_pred_scaled)\n",
        "y_test_original = scaler_y.inverse_transform(y_test_scaled)\n",
        "\n",
        "# Compute average absolute error\n",
        "absolute_errors = np.abs(y_test_original - y_pred_original)\n",
        "average_error = np.mean(absolute_errors)\n",
        "\n",
        "print(f\"Average error is ${average_error:.2f}\")"
      ]
    }
  ],
  "metadata": {
    "colab": {
      "provenance": []
    },
    "kernelspec": {
      "display_name": "Python 3",
      "name": "python3"
    },
    "language_info": {
      "name": "python"
    }
  },
  "nbformat": 4,
  "nbformat_minor": 0
}