{
  "cells": [
    {
      "cell_type": "code",
      "execution_count": 1,
      "metadata": {
        "id": "SyfYD29Kj_kI"
      },
      "outputs": [],
      "source": [
        "# Libraries\n",
        "\n",
        "import joblib\n",
        "import json\n",
        "import math\n",
        "import numpy as np\n",
        "import pandas as pd\n",
        "import tensorflow as tf\n",
        "from matplotlib import pyplot as plt\n",
        "from sklearn.model_selection import train_test_split\n",
        "from sklearn.preprocessing import OneHotEncoder, StandardScaler\n",
        "from sklearn.compose import ColumnTransformer\n",
        "from sklearn.pipeline import Pipeline\n",
        "from sklearn.linear_model import LinearRegression\n",
        "from sklearn.metrics import mean_absolute_error\n",
        "from tensorflow.keras.layers import Dense\n",
        "from tensorflow.keras.models import Sequential\n"
      ]
    },
    {
      "cell_type": "markdown",
      "metadata": {
        "id": "bYyfVfW5tYsP"
      },
      "source": [
        "# Pre-process Car Data"
      ]
    },
    {
      "cell_type": "code",
      "execution_count": 2,
      "metadata": {
        "id": "LU6Ho-A5kbCT"
      },
      "outputs": [],
      "source": [
        "# Load dataset and remove duplicates\n",
        "df = pd.read_csv('cars.csv')\n",
        "df = df.drop_duplicates()\n",
        "\n",
        "# List of common colours\n",
        "car_colours = [\n",
        "    'Black', 'White', 'Silver', 'Grey', 'Gray', 'Red', 'Blue', 'Green', 'Yellow',\n",
        "    'Orange', 'Brown', 'Beige', 'Gold', 'Maroon', 'Purple', 'Pink'\n",
        "]\n",
        "\n",
        "# List of acceptable body types\n",
        "body_types = [\n",
        "    'SUV', 'Minivan', 'Coupe', 'Convertible', 'Sedan', 'Truck', 'Hatchback',\n",
        "    'Wagon', 'Cabriolet', 'Compact', 'Van', 'Cab'\n",
        "]\n",
        "\n",
        "# Clean each row individually\n",
        "for index, row in df.iterrows():\n",
        "    # Fix Kilometres: set to '0 km' if missing and car is New\n",
        "    if pd.isna(row['Kilometres']) and row.get('Status') == 'New':\n",
        "        df.at[index, 'Kilometres'] = '0 km'\n",
        "\n",
        "    # Normalize transmission values\n",
        "    transmission = row.get('Transmission')\n",
        "    if isinstance(transmission, str):\n",
        "        transmission_lower = transmission.lower()\n",
        "        if 'automatic' in transmission_lower:\n",
        "            df.at[index, 'Transmission'] = 'automatic'\n",
        "        elif 'manual' in transmission_lower:\n",
        "            df.at[index, 'Transmission'] = 'manual'\n",
        "        else:\n",
        "            df.at[index, 'Transmission'] = None\n",
        "    else:\n",
        "        df.at[index, 'Transmission'] = None\n",
        "\n",
        "    # Normalize exterior colour\n",
        "    colour = row.get('Exterior Colour')\n",
        "    if isinstance(colour, str):\n",
        "        matched_colour = None\n",
        "        for car_colour in car_colours:\n",
        "            if car_colour.lower() in colour.lower():\n",
        "                matched_colour = 'Grey' if car_colour == 'Gray' else car_colour\n",
        "                break\n",
        "        df.at[index, 'Exterior Colour'] = matched_colour\n",
        "    else:\n",
        "        df.at[index, 'Exterior Colour'] = None\n",
        "\n",
        "    # Normalize body type\n",
        "    body = row.get('Body Type')\n",
        "    if isinstance(body, str):\n",
        "        matched_type = None\n",
        "        for bt in body_types:\n",
        "            if bt.lower() in body.lower():\n",
        "                matched_type = bt\n",
        "                break\n",
        "        df.at[index, 'Body Type'] = matched_type\n",
        "    else:\n",
        "        df.at[index, 'Body Type'] = None\n",
        "\n",
        "# Define final columns to keep\n",
        "output_column = ['Price']\n",
        "input_columns = ['Year', 'Make', 'Model', 'Kilometres']\n",
        "columns_to_keep = output_column + input_columns\n",
        "\n",
        "# Retain only necessary columns and drop rows with missing data\n",
        "df = df[columns_to_keep]\n",
        "df = df.dropna()\n",
        "\n",
        "# Convert 'Price' and 'Kilometres' to integers\n",
        "def parse_numeric(value):\n",
        "    \"\"\"Remove commas and extract numeric portion from strings like '34,000 km'.\"\"\"\n",
        "    if isinstance(value, str):\n",
        "        value = value.split()[0].replace(',', '')\n",
        "    return int(value)\n",
        "\n",
        "df['Price'] = df['Price'].apply(parse_numeric)\n",
        "df['Kilometres'] = df['Kilometres'].apply(parse_numeric)\n",
        "\n",
        "df.sort_values(by=[\"Make\", \"Model\"], inplace=True)\n",
        "\n",
        "# Save the cleaned dataset\n",
        "df.to_csv(\"cars_preprocessed.csv\", index=False)"
      ]
    },
    {
      "cell_type": "markdown",
      "source": [
        "# Linear Regression Baseline"
      ],
      "metadata": {
        "id": "0ojhJFTWyoRQ"
      }
    },
    {
      "cell_type": "code",
      "source": [
        "X = df[['Year', 'Make', 'Model', 'Kilometres']]\n",
        "y = df['Price']\n",
        "\n",
        "X_train, X_test, y_train, y_test = train_test_split(X, y, test_size=0.2, random_state=42)\n",
        "\n",
        "# Define preprocessing steps\n",
        "numeric_features = ['Year', 'Kilometres']\n",
        "categorical_features = ['Make', 'Model']\n",
        "\n",
        "preprocessor = ColumnTransformer(\n",
        "    transformers=[\n",
        "        ('num', 'passthrough', numeric_features),\n",
        "        ('cat', OneHotEncoder(handle_unknown='ignore'), categorical_features)\n",
        "    ]\n",
        ")\n",
        "\n",
        "# Create pipeline with linear regression\n",
        "model = Pipeline(steps=[\n",
        "    ('preprocessor', preprocessor),\n",
        "    ('regressor', LinearRegression())\n",
        "])\n",
        "\n",
        "# Train the model\n",
        "model.fit(X_train, y_train)\n",
        "\n",
        "# Predict and evaluate\n",
        "y_pred = model.predict(X_test)\n",
        "mae = mean_absolute_error(y_test, y_pred)\n",
        "print(f\"Mean Absolute Error: ${mae:,.2f}\")"
      ],
      "metadata": {
        "colab": {
          "base_uri": "https://localhost:8080/"
        },
        "id": "tAz8hI9fymiV",
        "outputId": "970ab0ea-c423-4f6b-c6ea-43b697f88811"
      },
      "execution_count": 3,
      "outputs": [
        {
          "output_type": "stream",
          "name": "stdout",
          "text": [
            "Mean Absolute Error: $15,664.63\n"
          ]
        }
      ]
    },
    {
      "cell_type": "markdown",
      "metadata": {
        "id": "LMSucIpZgFkT"
      },
      "source": [
        "# One Hot Encode Make & Model Cols"
      ]
    },
    {
      "cell_type": "code",
      "execution_count": 4,
      "metadata": {
        "id": "3Yrd90dxqhVZ"
      },
      "outputs": [],
      "source": [
        "# Initialize OneHotEncoder with dense output\n",
        "encoder = OneHotEncoder(sparse_output=False)\n",
        "\n",
        "# Categorical columns to encode\n",
        "categorical_cols = ['Make', 'Model']\n",
        "\n",
        "def one_hot_encode_categorical_cols(\n",
        "    df: pd.DataFrame,\n",
        "    categorical_cols: list[str],\n",
        "    encoder: OneHotEncoder,\n",
        "    fit: bool = False\n",
        ") -> pd.DataFrame:\n",
        "    \"\"\"\n",
        "    One-hot encodes specified categorical columns in the DataFrame.\n",
        "\n",
        "    Parameters:\n",
        "    - df (pd.DataFrame): The input DataFrame.\n",
        "    - categorical_cols (list[str]): Column names to be one-hot encoded.\n",
        "    - encoder (OneHotEncoder): A scikit-learn OneHotEncoder instance.\n",
        "    - fit (bool): If True, fits the encoder before transforming; otherwise, assumes encoder is already fitted.\n",
        "\n",
        "    Returns:\n",
        "    - pd.DataFrame: DataFrame with categorical columns replaced by one-hot encoded features.\n",
        "    \"\"\"\n",
        "    if fit:\n",
        "        encoded_data = encoder.fit_transform(df[categorical_cols])\n",
        "        joblib.dump(encoder, 'encoder.pkl') # Save the fitted scaler for reuse\n",
        "    else:\n",
        "        encoded_data = encoder.transform(df[categorical_cols])\n",
        "\n",
        "    # Create DataFrame from encoded array\n",
        "    encoded_df = pd.DataFrame(\n",
        "        encoded_data,\n",
        "        columns=encoder.get_feature_names_out(categorical_cols),\n",
        "        index=df.index\n",
        "    )\n",
        "\n",
        "    # Drop original categorical columns and concatenate encoded columns\n",
        "    df = df.drop(columns=categorical_cols)\n",
        "    return pd.concat([df, encoded_df], axis=1)\n",
        "\n",
        "# Apply one-hot encoding to the DataFrame\n",
        "df_encoded = one_hot_encode_categorical_cols(df, categorical_cols, encoder, fit=True)"
      ]
    },
    {
      "cell_type": "markdown",
      "metadata": {
        "id": "S_djVEEMga92"
      },
      "source": [
        "# Scale Km & Year Cols"
      ]
    },
    {
      "cell_type": "code",
      "execution_count": 5,
      "metadata": {
        "id": "94poCAJSuYZ4"
      },
      "outputs": [],
      "source": [
        "# Define numerical columns to scale\n",
        "numerical_cols = ['Kilometres', 'Year']\n",
        "scaler = StandardScaler()\n",
        "\n",
        "def scale_numerical_cols(\n",
        "    df: pd.DataFrame,\n",
        "    numerical_cols: list[str],\n",
        "    scaler: StandardScaler,\n",
        "    fit: bool = False\n",
        ") -> pd.DataFrame:\n",
        "    \"\"\"\n",
        "    Scales numerical columns in the DataFrame using the provided scaler.\n",
        "\n",
        "    Parameters:\n",
        "    - df (pd.DataFrame): The input DataFrame.\n",
        "    - numerical_cols (list[str]): List of column names to be scaled.\n",
        "    - scaler (StandardScaler): A scikit-learn scaler (e.g., StandardScaler, MinMaxScaler).\n",
        "    - fit (bool): If True, fits the scaler to the data before transforming. If False, uses a pre-fitted scaler.\n",
        "\n",
        "    Returns:\n",
        "    - pd.DataFrame: A DataFrame with scaled numerical columns and original non-numerical columns.\n",
        "    \"\"\"\n",
        "    # Separate numerical and non-numerical columns\n",
        "    numerical_data = df[numerical_cols]\n",
        "    other_data = df.drop(columns=numerical_cols)\n",
        "\n",
        "    # Fit and/or transform the numerical columns\n",
        "    if fit:\n",
        "        scaled_values = scaler.fit_transform(numerical_data)\n",
        "        joblib.dump(scaler, 'scaler_x.pkl')  # Save the fitted scaler for reuse\n",
        "    else:\n",
        "        scaled_values = scaler.transform(numerical_data)\n",
        "\n",
        "    # Create DataFrame for scaled values with original indices\n",
        "    scaled_df = pd.DataFrame(scaled_values, columns=numerical_cols, index=df.index)\n",
        "\n",
        "    # Combine scaled numerical data with unscaled data\n",
        "    return pd.concat([scaled_df, other_data], axis=1)\n",
        "\n",
        "# Apply scaling to the encoded DataFrame\n",
        "df_scaled = scale_numerical_cols(df_encoded, numerical_cols, scaler, fit=True)"
      ]
    },
    {
      "cell_type": "markdown",
      "metadata": {
        "id": "WVpudjKkg8Vu"
      },
      "source": [
        "# Split Data into Train / Test"
      ]
    },
    {
      "cell_type": "code",
      "execution_count": 6,
      "metadata": {
        "colab": {
          "base_uri": "https://localhost:8080/"
        },
        "id": "33lpf1MmwjVi",
        "outputId": "a6357a8b-2230-41aa-b5c6-4944df6d5db0"
      },
      "outputs": [
        {
          "output_type": "execute_result",
          "data": {
            "text/plain": [
              "['scaler_y.pkl']"
            ]
          },
          "metadata": {},
          "execution_count": 6
        }
      ],
      "source": [
        "# Separate features and target\n",
        "X = df_scaled.drop('Price', axis=1)\n",
        "Y = df_scaled['Price']  # Preserves the original (unscaled) price\n",
        "\n",
        "# Split into train and test sets (still unscaled)\n",
        "X_train, X_test, y_train, y_test = train_test_split(\n",
        "    X.values, Y.values, test_size=0.2, shuffle=True, random_state=42\n",
        ")\n",
        "\n",
        "# Scale the training target only (to avoid data leakage)\n",
        "scaler_y = StandardScaler()\n",
        "y_train_scaled = scaler_y.fit_transform(y_train.reshape(-1, 1))\n",
        "y_test_scaled = scaler_y.transform(y_test.reshape(-1, 1))\n",
        "\n",
        "# Save the fitted scaler after training\n",
        "joblib.dump(scaler_y, 'scaler_y.pkl')"
      ]
    },
    {
      "cell_type": "markdown",
      "metadata": {
        "id": "EcM9SDztkQ_G"
      },
      "source": [
        "# Create Model"
      ]
    },
    {
      "cell_type": "code",
      "execution_count": 7,
      "metadata": {
        "colab": {
          "base_uri": "https://localhost:8080/"
        },
        "id": "c5symonowzfd",
        "outputId": "6d957c43-4cfb-49ca-80e3-c35dc9dd1872"
      },
      "outputs": [
        {
          "output_type": "stream",
          "name": "stderr",
          "text": [
            "/usr/local/lib/python3.11/dist-packages/keras/src/layers/core/dense.py:87: UserWarning: Do not pass an `input_shape`/`input_dim` argument to a layer. When using Sequential models, prefer using an `Input(shape)` object as the first layer in the model instead.\n",
            "  super().__init__(activity_regularizer=activity_regularizer, **kwargs)\n"
          ]
        }
      ],
      "source": [
        "model = Sequential()\n",
        "model.add(Dense(units=64, activation='relu', input_dim=X_train.shape[1]))\n",
        "model.add(Dense(units=32, activation='relu'))\n",
        "model.add(Dense(units=1, activation='linear'))  # Good: linear output for regression"
      ]
    },
    {
      "cell_type": "code",
      "execution_count": 8,
      "metadata": {
        "id": "AAhTt_NkxPuc"
      },
      "outputs": [],
      "source": [
        "model.compile(optimizer='adam', loss='mean_squared_error', metrics=['mean_absolute_error'])"
      ]
    },
    {
      "cell_type": "code",
      "execution_count": 9,
      "metadata": {
        "id": "2XEXNEzKxvy_"
      },
      "outputs": [],
      "source": [
        "# Convert input features to float32\n",
        "X_train = X_train.astype(np.float32)\n",
        "X_test = X_test.astype(np.float32)\n",
        "\n",
        "# Convert scaled targets to float32 (used for training)\n",
        "y_train_scaled = y_train_scaled.astype(np.float32)\n",
        "y_test_scaled = y_test_scaled.astype(np.float32)"
      ]
    },
    {
      "cell_type": "markdown",
      "metadata": {
        "id": "gcfds9S4kUIY"
      },
      "source": [
        "# Train Model"
      ]
    },
    {
      "cell_type": "code",
      "execution_count": 10,
      "metadata": {
        "colab": {
          "base_uri": "https://localhost:8080/"
        },
        "id": "RviBls8MxQ0N",
        "outputId": "1bd1598a-1e0e-496a-bf5e-121ac93bab99"
      },
      "outputs": [
        {
          "output_type": "stream",
          "name": "stdout",
          "text": [
            "Epoch 1/100\n",
            "\u001b[1m1179/1179\u001b[0m \u001b[32m━━━━━━━━━━━━━━━━━━━━\u001b[0m\u001b[37m\u001b[0m \u001b[1m7s\u001b[0m 4ms/step - loss: 0.6991 - mean_absolute_error: 0.1233 - val_loss: 0.0216 - val_mean_absolute_error: 0.0776\n",
            "Epoch 2/100\n",
            "\u001b[1m1179/1179\u001b[0m \u001b[32m━━━━━━━━━━━━━━━━━━━━\u001b[0m\u001b[37m\u001b[0m \u001b[1m4s\u001b[0m 4ms/step - loss: 1.8213 - mean_absolute_error: 0.0943 - val_loss: 0.0291 - val_mean_absolute_error: 0.0940\n",
            "Epoch 3/100\n",
            "\u001b[1m1179/1179\u001b[0m \u001b[32m━━━━━━━━━━━━━━━━━━━━\u001b[0m\u001b[37m\u001b[0m \u001b[1m5s\u001b[0m 5ms/step - loss: 1.0723 - mean_absolute_error: 0.0878 - val_loss: 0.0204 - val_mean_absolute_error: 0.0698\n",
            "Epoch 4/100\n",
            "\u001b[1m1179/1179\u001b[0m \u001b[32m━━━━━━━━━━━━━━━━━━━━\u001b[0m\u001b[37m\u001b[0m \u001b[1m4s\u001b[0m 4ms/step - loss: 1.4734 - mean_absolute_error: 0.0869 - val_loss: 0.0260 - val_mean_absolute_error: 0.0716\n",
            "Epoch 5/100\n",
            "\u001b[1m1179/1179\u001b[0m \u001b[32m━━━━━━━━━━━━━━━━━━━━\u001b[0m\u001b[37m\u001b[0m \u001b[1m6s\u001b[0m 4ms/step - loss: 0.0686 - mean_absolute_error: 0.0684 - val_loss: 0.0662 - val_mean_absolute_error: 0.1000\n",
            "Epoch 6/100\n",
            "\u001b[1m1179/1179\u001b[0m \u001b[32m━━━━━━━━━━━━━━━━━━━━\u001b[0m\u001b[37m\u001b[0m \u001b[1m5s\u001b[0m 4ms/step - loss: 1.5903 - mean_absolute_error: 0.0948 - val_loss: 0.0365 - val_mean_absolute_error: 0.0724\n",
            "Epoch 7/100\n",
            "\u001b[1m1179/1179\u001b[0m \u001b[32m━━━━━━━━━━━━━━━━━━━━\u001b[0m\u001b[37m\u001b[0m \u001b[1m4s\u001b[0m 4ms/step - loss: 0.4843 - mean_absolute_error: 0.0753 - val_loss: 0.0437 - val_mean_absolute_error: 0.0747\n",
            "Epoch 8/100\n",
            "\u001b[1m1179/1179\u001b[0m \u001b[32m━━━━━━━━━━━━━━━━━━━━\u001b[0m\u001b[37m\u001b[0m \u001b[1m6s\u001b[0m 5ms/step - loss: 1.4394 - mean_absolute_error: 0.0864 - val_loss: 0.0279 - val_mean_absolute_error: 0.0853\n",
            "Epoch 9/100\n",
            "\u001b[1m1179/1179\u001b[0m \u001b[32m━━━━━━━━━━━━━━━━━━━━\u001b[0m\u001b[37m\u001b[0m \u001b[1m11s\u001b[0m 5ms/step - loss: 0.4156 - mean_absolute_error: 0.0786 - val_loss: 0.0297 - val_mean_absolute_error: 0.0751\n",
            "Epoch 10/100\n",
            "\u001b[1m1179/1179\u001b[0m \u001b[32m━━━━━━━━━━━━━━━━━━━━\u001b[0m\u001b[37m\u001b[0m \u001b[1m4s\u001b[0m 4ms/step - loss: 0.9398 - mean_absolute_error: 0.0833 - val_loss: 0.0217 - val_mean_absolute_error: 0.0694\n",
            "Epoch 11/100\n",
            "\u001b[1m1179/1179\u001b[0m \u001b[32m━━━━━━━━━━━━━━━━━━━━\u001b[0m\u001b[37m\u001b[0m \u001b[1m5s\u001b[0m 4ms/step - loss: 0.8744 - mean_absolute_error: 0.0849 - val_loss: 0.0221 - val_mean_absolute_error: 0.0707\n",
            "Epoch 12/100\n",
            "\u001b[1m1179/1179\u001b[0m \u001b[32m━━━━━━━━━━━━━━━━━━━━\u001b[0m\u001b[37m\u001b[0m \u001b[1m5s\u001b[0m 4ms/step - loss: 0.9175 - mean_absolute_error: 0.0855 - val_loss: 0.0246 - val_mean_absolute_error: 0.0691\n",
            "Epoch 13/100\n",
            "\u001b[1m1179/1179\u001b[0m \u001b[32m━━━━━━━━━━━━━━━━━━━━\u001b[0m\u001b[37m\u001b[0m \u001b[1m11s\u001b[0m 5ms/step - loss: 0.1378 - mean_absolute_error: 0.0704 - val_loss: 0.0284 - val_mean_absolute_error: 0.0861\n",
            "Epoch 14/100\n",
            "\u001b[1m1179/1179\u001b[0m \u001b[32m━━━━━━━━━━━━━━━━━━━━\u001b[0m\u001b[37m\u001b[0m \u001b[1m4s\u001b[0m 4ms/step - loss: 0.2733 - mean_absolute_error: 0.0744 - val_loss: 0.0225 - val_mean_absolute_error: 0.0694\n",
            "Epoch 15/100\n",
            "\u001b[1m1179/1179\u001b[0m \u001b[32m━━━━━━━━━━━━━━━━━━━━\u001b[0m\u001b[37m\u001b[0m \u001b[1m5s\u001b[0m 4ms/step - loss: 0.1516 - mean_absolute_error: 0.0748 - val_loss: 0.0224 - val_mean_absolute_error: 0.0824\n",
            "Epoch 16/100\n",
            "\u001b[1m1179/1179\u001b[0m \u001b[32m━━━━━━━━━━━━━━━━━━━━\u001b[0m\u001b[37m\u001b[0m \u001b[1m6s\u001b[0m 5ms/step - loss: 0.2194 - mean_absolute_error: 0.0766 - val_loss: 0.0207 - val_mean_absolute_error: 0.0702\n",
            "Epoch 17/100\n",
            "\u001b[1m1179/1179\u001b[0m \u001b[32m━━━━━━━━━━━━━━━━━━━━\u001b[0m\u001b[37m\u001b[0m \u001b[1m10s\u001b[0m 5ms/step - loss: 0.0363 - mean_absolute_error: 0.0673 - val_loss: 0.0220 - val_mean_absolute_error: 0.0756\n",
            "Epoch 18/100\n",
            "\u001b[1m1179/1179\u001b[0m \u001b[32m━━━━━━━━━━━━━━━━━━━━\u001b[0m\u001b[37m\u001b[0m \u001b[1m4s\u001b[0m 4ms/step - loss: 0.0241 - mean_absolute_error: 0.0695 - val_loss: 0.0304 - val_mean_absolute_error: 0.1052\n",
            "Epoch 19/100\n",
            "\u001b[1m1179/1179\u001b[0m \u001b[32m━━━━━━━━━━━━━━━━━━━━\u001b[0m\u001b[37m\u001b[0m \u001b[1m5s\u001b[0m 4ms/step - loss: 0.0256 - mean_absolute_error: 0.0723 - val_loss: 0.0220 - val_mean_absolute_error: 0.0713\n",
            "Epoch 20/100\n",
            "\u001b[1m1179/1179\u001b[0m \u001b[32m━━━━━━━━━━━━━━━━━━━━\u001b[0m\u001b[37m\u001b[0m \u001b[1m6s\u001b[0m 5ms/step - loss: 0.0443 - mean_absolute_error: 0.0703 - val_loss: 0.0193 - val_mean_absolute_error: 0.0679\n",
            "Epoch 21/100\n",
            "\u001b[1m1179/1179\u001b[0m \u001b[32m━━━━━━━━━━━━━━━━━━━━\u001b[0m\u001b[37m\u001b[0m \u001b[1m5s\u001b[0m 4ms/step - loss: 0.0228 - mean_absolute_error: 0.0660 - val_loss: 0.0206 - val_mean_absolute_error: 0.0751\n",
            "Epoch 22/100\n",
            "\u001b[1m1179/1179\u001b[0m \u001b[32m━━━━━━━━━━━━━━━━━━━━\u001b[0m\u001b[37m\u001b[0m \u001b[1m5s\u001b[0m 5ms/step - loss: 0.0235 - mean_absolute_error: 0.0688 - val_loss: 0.0501 - val_mean_absolute_error: 0.0773\n",
            "Epoch 23/100\n",
            "\u001b[1m1179/1179\u001b[0m \u001b[32m━━━━━━━━━━━━━━━━━━━━\u001b[0m\u001b[37m\u001b[0m \u001b[1m9s\u001b[0m 4ms/step - loss: 0.1054 - mean_absolute_error: 0.0775 - val_loss: 0.0195 - val_mean_absolute_error: 0.0698\n",
            "Epoch 24/100\n",
            "\u001b[1m1179/1179\u001b[0m \u001b[32m━━━━━━━━━━━━━━━━━━━━\u001b[0m\u001b[37m\u001b[0m \u001b[1m6s\u001b[0m 5ms/step - loss: 0.0232 - mean_absolute_error: 0.0659 - val_loss: 0.0190 - val_mean_absolute_error: 0.0705\n",
            "Epoch 25/100\n",
            "\u001b[1m1179/1179\u001b[0m \u001b[32m━━━━━━━━━━━━━━━━━━━━\u001b[0m\u001b[37m\u001b[0m \u001b[1m11s\u001b[0m 5ms/step - loss: 0.0235 - mean_absolute_error: 0.0678 - val_loss: 0.0169 - val_mean_absolute_error: 0.0670\n",
            "Epoch 26/100\n",
            "\u001b[1m1179/1179\u001b[0m \u001b[32m━━━━━━━━━━━━━━━━━━━━\u001b[0m\u001b[37m\u001b[0m \u001b[1m9s\u001b[0m 4ms/step - loss: 0.0210 - mean_absolute_error: 0.0648 - val_loss: 0.0226 - val_mean_absolute_error: 0.0692\n",
            "Epoch 27/100\n",
            "\u001b[1m1179/1179\u001b[0m \u001b[32m━━━━━━━━━━━━━━━━━━━━\u001b[0m\u001b[37m\u001b[0m \u001b[1m6s\u001b[0m 5ms/step - loss: 0.0553 - mean_absolute_error: 0.0680 - val_loss: 0.0264 - val_mean_absolute_error: 0.0833\n",
            "Epoch 28/100\n",
            "\u001b[1m1179/1179\u001b[0m \u001b[32m━━━━━━━━━━━━━━━━━━━━\u001b[0m\u001b[37m\u001b[0m \u001b[1m10s\u001b[0m 5ms/step - loss: 0.0228 - mean_absolute_error: 0.0668 - val_loss: 0.0191 - val_mean_absolute_error: 0.0691\n",
            "Epoch 29/100\n",
            "\u001b[1m1179/1179\u001b[0m \u001b[32m━━━━━━━━━━━━━━━━━━━━\u001b[0m\u001b[37m\u001b[0m \u001b[1m9s\u001b[0m 4ms/step - loss: 0.0285 - mean_absolute_error: 0.0651 - val_loss: 0.0184 - val_mean_absolute_error: 0.0685\n",
            "Epoch 30/100\n",
            "\u001b[1m1179/1179\u001b[0m \u001b[32m━━━━━━━━━━━━━━━━━━━━\u001b[0m\u001b[37m\u001b[0m \u001b[1m6s\u001b[0m 5ms/step - loss: 0.0346 - mean_absolute_error: 0.0680 - val_loss: 0.0202 - val_mean_absolute_error: 0.0708\n",
            "Epoch 31/100\n",
            "\u001b[1m1179/1179\u001b[0m \u001b[32m━━━━━━━━━━━━━━━━━━━━\u001b[0m\u001b[37m\u001b[0m \u001b[1m4s\u001b[0m 4ms/step - loss: 0.0385 - mean_absolute_error: 0.0682 - val_loss: 0.0187 - val_mean_absolute_error: 0.0685\n",
            "Epoch 32/100\n",
            "\u001b[1m1179/1179\u001b[0m \u001b[32m━━━━━━━━━━━━━━━━━━━━\u001b[0m\u001b[37m\u001b[0m \u001b[1m6s\u001b[0m 5ms/step - loss: 0.0288 - mean_absolute_error: 0.0656 - val_loss: 0.0199 - val_mean_absolute_error: 0.0707\n",
            "Epoch 33/100\n",
            "\u001b[1m1179/1179\u001b[0m \u001b[32m━━━━━━━━━━━━━━━━━━━━\u001b[0m\u001b[37m\u001b[0m \u001b[1m10s\u001b[0m 5ms/step - loss: 0.0506 - mean_absolute_error: 0.0666 - val_loss: 0.0177 - val_mean_absolute_error: 0.0696\n",
            "Epoch 34/100\n",
            "\u001b[1m1179/1179\u001b[0m \u001b[32m━━━━━━━━━━━━━━━━━━━━\u001b[0m\u001b[37m\u001b[0m \u001b[1m9s\u001b[0m 4ms/step - loss: 0.0403 - mean_absolute_error: 0.0661 - val_loss: 0.0178 - val_mean_absolute_error: 0.0693\n",
            "Epoch 35/100\n",
            "\u001b[1m1179/1179\u001b[0m \u001b[32m━━━━━━━━━━━━━━━━━━━━\u001b[0m\u001b[37m\u001b[0m \u001b[1m5s\u001b[0m 5ms/step - loss: 0.0226 - mean_absolute_error: 0.0644 - val_loss: 0.0218 - val_mean_absolute_error: 0.0732\n",
            "Epoch 36/100\n",
            "\u001b[1m1179/1179\u001b[0m \u001b[32m━━━━━━━━━━━━━━━━━━━━\u001b[0m\u001b[37m\u001b[0m \u001b[1m4s\u001b[0m 4ms/step - loss: 0.0348 - mean_absolute_error: 0.0674 - val_loss: 0.0182 - val_mean_absolute_error: 0.0665\n",
            "Epoch 37/100\n",
            "\u001b[1m1179/1179\u001b[0m \u001b[32m━━━━━━━━━━━━━━━━━━━━\u001b[0m\u001b[37m\u001b[0m \u001b[1m4s\u001b[0m 4ms/step - loss: 0.0220 - mean_absolute_error: 0.0636 - val_loss: 0.0174 - val_mean_absolute_error: 0.0655\n",
            "Epoch 38/100\n",
            "\u001b[1m1179/1179\u001b[0m \u001b[32m━━━━━━━━━━━━━━━━━━━━\u001b[0m\u001b[37m\u001b[0m \u001b[1m6s\u001b[0m 5ms/step - loss: 0.0248 - mean_absolute_error: 0.0621 - val_loss: 0.0174 - val_mean_absolute_error: 0.0677\n",
            "Epoch 39/100\n",
            "\u001b[1m1179/1179\u001b[0m \u001b[32m━━━━━━━━━━━━━━━━━━━━\u001b[0m\u001b[37m\u001b[0m \u001b[1m11s\u001b[0m 5ms/step - loss: 0.0328 - mean_absolute_error: 0.0643 - val_loss: 0.0171 - val_mean_absolute_error: 0.0684\n",
            "Epoch 40/100\n",
            "\u001b[1m1179/1179\u001b[0m \u001b[32m━━━━━━━━━━━━━━━━━━━━\u001b[0m\u001b[37m\u001b[0m \u001b[1m9s\u001b[0m 4ms/step - loss: 0.0209 - mean_absolute_error: 0.0649 - val_loss: 0.0210 - val_mean_absolute_error: 0.0726\n",
            "Epoch 41/100\n",
            "\u001b[1m1179/1179\u001b[0m \u001b[32m━━━━━━━━━━━━━━━━━━━━\u001b[0m\u001b[37m\u001b[0m \u001b[1m5s\u001b[0m 5ms/step - loss: 0.0327 - mean_absolute_error: 0.0642 - val_loss: 0.0174 - val_mean_absolute_error: 0.0676\n",
            "Epoch 42/100\n",
            "\u001b[1m1179/1179\u001b[0m \u001b[32m━━━━━━━━━━━━━━━━━━━━\u001b[0m\u001b[37m\u001b[0m \u001b[1m4s\u001b[0m 4ms/step - loss: 0.0320 - mean_absolute_error: 0.0627 - val_loss: 0.0178 - val_mean_absolute_error: 0.0659\n",
            "Epoch 43/100\n",
            "\u001b[1m1179/1179\u001b[0m \u001b[32m━━━━━━━━━━━━━━━━━━━━\u001b[0m\u001b[37m\u001b[0m \u001b[1m6s\u001b[0m 5ms/step - loss: 0.0325 - mean_absolute_error: 0.0661 - val_loss: 0.0198 - val_mean_absolute_error: 0.0684\n",
            "Epoch 44/100\n",
            "\u001b[1m1179/1179\u001b[0m \u001b[32m━━━━━━━━━━━━━━━━━━━━\u001b[0m\u001b[37m\u001b[0m \u001b[1m10s\u001b[0m 4ms/step - loss: 0.0786 - mean_absolute_error: 0.0654 - val_loss: 0.0171 - val_mean_absolute_error: 0.0668\n",
            "Epoch 45/100\n",
            "\u001b[1m1179/1179\u001b[0m \u001b[32m━━━━━━━━━━━━━━━━━━━━\u001b[0m\u001b[37m\u001b[0m \u001b[1m10s\u001b[0m 4ms/step - loss: 0.0162 - mean_absolute_error: 0.0612 - val_loss: 0.0205 - val_mean_absolute_error: 0.0787\n",
            "Epoch 46/100\n",
            "\u001b[1m1179/1179\u001b[0m \u001b[32m━━━━━━━━━━━━━━━━━━━━\u001b[0m\u001b[37m\u001b[0m \u001b[1m6s\u001b[0m 5ms/step - loss: 0.0456 - mean_absolute_error: 0.0662 - val_loss: 0.0179 - val_mean_absolute_error: 0.0672\n",
            "Epoch 47/100\n",
            "\u001b[1m1179/1179\u001b[0m \u001b[32m━━━━━━━━━━━━━━━━━━━━\u001b[0m\u001b[37m\u001b[0m \u001b[1m9s\u001b[0m 4ms/step - loss: 0.0208 - mean_absolute_error: 0.0623 - val_loss: 0.0173 - val_mean_absolute_error: 0.0651\n",
            "Epoch 48/100\n",
            "\u001b[1m1179/1179\u001b[0m \u001b[32m━━━━━━━━━━━━━━━━━━━━\u001b[0m\u001b[37m\u001b[0m \u001b[1m5s\u001b[0m 4ms/step - loss: 0.0152 - mean_absolute_error: 0.0611 - val_loss: 0.0196 - val_mean_absolute_error: 0.0692\n",
            "Epoch 49/100\n",
            "\u001b[1m1179/1179\u001b[0m \u001b[32m━━━━━━━━━━━━━━━━━━━━\u001b[0m\u001b[37m\u001b[0m \u001b[1m4s\u001b[0m 3ms/step - loss: 0.0183 - mean_absolute_error: 0.0626 - val_loss: 0.0175 - val_mean_absolute_error: 0.0679\n",
            "Epoch 50/100\n",
            "\u001b[1m1179/1179\u001b[0m \u001b[32m━━━━━━━━━━━━━━━━━━━━\u001b[0m\u001b[37m\u001b[0m \u001b[1m4s\u001b[0m 3ms/step - loss: 0.0481 - mean_absolute_error: 0.0632 - val_loss: 0.0190 - val_mean_absolute_error: 0.0681\n",
            "Epoch 51/100\n",
            "\u001b[1m1179/1179\u001b[0m \u001b[32m━━━━━━━━━━━━━━━━━━━━\u001b[0m\u001b[37m\u001b[0m \u001b[1m5s\u001b[0m 4ms/step - loss: 0.0249 - mean_absolute_error: 0.0628 - val_loss: 0.0163 - val_mean_absolute_error: 0.0656\n",
            "Epoch 52/100\n",
            "\u001b[1m1179/1179\u001b[0m \u001b[32m━━━━━━━━━━━━━━━━━━━━\u001b[0m\u001b[37m\u001b[0m \u001b[1m4s\u001b[0m 3ms/step - loss: 0.0270 - mean_absolute_error: 0.0642 - val_loss: 0.0179 - val_mean_absolute_error: 0.0663\n",
            "Epoch 53/100\n",
            "\u001b[1m1179/1179\u001b[0m \u001b[32m━━━━━━━━━━━━━━━━━━━━\u001b[0m\u001b[37m\u001b[0m \u001b[1m6s\u001b[0m 5ms/step - loss: 0.0218 - mean_absolute_error: 0.0615 - val_loss: 0.0197 - val_mean_absolute_error: 0.0711\n",
            "Epoch 54/100\n",
            "\u001b[1m1179/1179\u001b[0m \u001b[32m━━━━━━━━━━━━━━━━━━━━\u001b[0m\u001b[37m\u001b[0m \u001b[1m9s\u001b[0m 3ms/step - loss: 0.0153 - mean_absolute_error: 0.0614 - val_loss: 0.0242 - val_mean_absolute_error: 0.0690\n",
            "Epoch 55/100\n",
            "\u001b[1m1179/1179\u001b[0m \u001b[32m━━━━━━━━━━━━━━━━━━━━\u001b[0m\u001b[37m\u001b[0m \u001b[1m6s\u001b[0m 4ms/step - loss: 0.0238 - mean_absolute_error: 0.0638 - val_loss: 0.0170 - val_mean_absolute_error: 0.0653\n",
            "Epoch 56/100\n",
            "\u001b[1m1179/1179\u001b[0m \u001b[32m━━━━━━━━━━━━━━━━━━━━\u001b[0m\u001b[37m\u001b[0m \u001b[1m4s\u001b[0m 3ms/step - loss: 0.0594 - mean_absolute_error: 0.0646 - val_loss: 0.0200 - val_mean_absolute_error: 0.0690\n",
            "Epoch 57/100\n",
            "\u001b[1m1179/1179\u001b[0m \u001b[32m━━━━━━━━━━━━━━━━━━━━\u001b[0m\u001b[37m\u001b[0m \u001b[1m7s\u001b[0m 5ms/step - loss: 0.0212 - mean_absolute_error: 0.0612 - val_loss: 0.0193 - val_mean_absolute_error: 0.0667\n",
            "Epoch 58/100\n",
            "\u001b[1m1179/1179\u001b[0m \u001b[32m━━━━━━━━━━━━━━━━━━━━\u001b[0m\u001b[37m\u001b[0m \u001b[1m9s\u001b[0m 3ms/step - loss: 0.0386 - mean_absolute_error: 0.0622 - val_loss: 0.0191 - val_mean_absolute_error: 0.0666\n",
            "Epoch 59/100\n",
            "\u001b[1m1179/1179\u001b[0m \u001b[32m━━━━━━━━━━━━━━━━━━━━\u001b[0m\u001b[37m\u001b[0m \u001b[1m6s\u001b[0m 5ms/step - loss: 0.0206 - mean_absolute_error: 0.0620 - val_loss: 0.0197 - val_mean_absolute_error: 0.0710\n",
            "Epoch 60/100\n",
            "\u001b[1m1179/1179\u001b[0m \u001b[32m━━━━━━━━━━━━━━━━━━━━\u001b[0m\u001b[37m\u001b[0m \u001b[1m8s\u001b[0m 4ms/step - loss: 0.0593 - mean_absolute_error: 0.0634 - val_loss: 0.0196 - val_mean_absolute_error: 0.0673\n",
            "Epoch 61/100\n",
            "\u001b[1m1179/1179\u001b[0m \u001b[32m━━━━━━━━━━━━━━━━━━━━\u001b[0m\u001b[37m\u001b[0m \u001b[1m5s\u001b[0m 4ms/step - loss: 0.0200 - mean_absolute_error: 0.0606 - val_loss: 0.0200 - val_mean_absolute_error: 0.0682\n",
            "Epoch 62/100\n",
            "\u001b[1m1179/1179\u001b[0m \u001b[32m━━━━━━━━━━━━━━━━━━━━\u001b[0m\u001b[37m\u001b[0m \u001b[1m4s\u001b[0m 3ms/step - loss: 0.0209 - mean_absolute_error: 0.0616 - val_loss: 0.0182 - val_mean_absolute_error: 0.0690\n",
            "Epoch 63/100\n",
            "\u001b[1m1179/1179\u001b[0m \u001b[32m━━━━━━━━━━━━━━━━━━━━\u001b[0m\u001b[37m\u001b[0m \u001b[1m6s\u001b[0m 4ms/step - loss: 0.0225 - mean_absolute_error: 0.0618 - val_loss: 0.0244 - val_mean_absolute_error: 0.0853\n",
            "Epoch 64/100\n",
            "\u001b[1m1179/1179\u001b[0m \u001b[32m━━━━━━━━━━━━━━━━━━━━\u001b[0m\u001b[37m\u001b[0m \u001b[1m9s\u001b[0m 3ms/step - loss: 0.0164 - mean_absolute_error: 0.0624 - val_loss: 0.0169 - val_mean_absolute_error: 0.0664\n",
            "Epoch 65/100\n",
            "\u001b[1m1179/1179\u001b[0m \u001b[32m━━━━━━━━━━━━━━━━━━━━\u001b[0m\u001b[37m\u001b[0m \u001b[1m5s\u001b[0m 4ms/step - loss: 0.0156 - mean_absolute_error: 0.0605 - val_loss: 0.0353 - val_mean_absolute_error: 0.0854\n",
            "Epoch 66/100\n",
            "\u001b[1m1179/1179\u001b[0m \u001b[32m━━━━━━━━━━━━━━━━━━━━\u001b[0m\u001b[37m\u001b[0m \u001b[1m4s\u001b[0m 4ms/step - loss: 0.0214 - mean_absolute_error: 0.0650 - val_loss: 0.0173 - val_mean_absolute_error: 0.0685\n",
            "Epoch 67/100\n",
            "\u001b[1m1179/1179\u001b[0m \u001b[32m━━━━━━━━━━━━━━━━━━━━\u001b[0m\u001b[37m\u001b[0m \u001b[1m5s\u001b[0m 4ms/step - loss: 0.0258 - mean_absolute_error: 0.0612 - val_loss: 0.0175 - val_mean_absolute_error: 0.0658\n",
            "Epoch 68/100\n",
            "\u001b[1m1179/1179\u001b[0m \u001b[32m━━━━━━━━━━━━━━━━━━━━\u001b[0m\u001b[37m\u001b[0m \u001b[1m5s\u001b[0m 4ms/step - loss: 0.0204 - mean_absolute_error: 0.0610 - val_loss: 0.0204 - val_mean_absolute_error: 0.0672\n",
            "Epoch 69/100\n",
            "\u001b[1m1179/1179\u001b[0m \u001b[32m━━━━━━━━━━━━━━━━━━━━\u001b[0m\u001b[37m\u001b[0m \u001b[1m5s\u001b[0m 4ms/step - loss: 0.0219 - mean_absolute_error: 0.0614 - val_loss: 0.0169 - val_mean_absolute_error: 0.0658\n",
            "Epoch 70/100\n",
            "\u001b[1m1179/1179\u001b[0m \u001b[32m━━━━━━━━━━━━━━━━━━━━\u001b[0m\u001b[37m\u001b[0m \u001b[1m6s\u001b[0m 4ms/step - loss: 0.0277 - mean_absolute_error: 0.0623 - val_loss: 0.0193 - val_mean_absolute_error: 0.0670\n",
            "Epoch 71/100\n",
            "\u001b[1m1179/1179\u001b[0m \u001b[32m━━━━━━━━━━━━━━━━━━━━\u001b[0m\u001b[37m\u001b[0m \u001b[1m4s\u001b[0m 3ms/step - loss: 0.0440 - mean_absolute_error: 0.0613 - val_loss: 0.0172 - val_mean_absolute_error: 0.0675\n",
            "Epoch 72/100\n",
            "\u001b[1m1179/1179\u001b[0m \u001b[32m━━━━━━━━━━━━━━━━━━━━\u001b[0m\u001b[37m\u001b[0m \u001b[1m6s\u001b[0m 4ms/step - loss: 0.0204 - mean_absolute_error: 0.0609 - val_loss: 0.0172 - val_mean_absolute_error: 0.0660\n",
            "Epoch 73/100\n",
            "\u001b[1m1179/1179\u001b[0m \u001b[32m━━━━━━━━━━━━━━━━━━━━\u001b[0m\u001b[37m\u001b[0m \u001b[1m5s\u001b[0m 4ms/step - loss: 0.0164 - mean_absolute_error: 0.0588 - val_loss: 0.0201 - val_mean_absolute_error: 0.0683\n",
            "Epoch 74/100\n",
            "\u001b[1m1179/1179\u001b[0m \u001b[32m━━━━━━━━━━━━━━━━━━━━\u001b[0m\u001b[37m\u001b[0m \u001b[1m4s\u001b[0m 3ms/step - loss: 0.0452 - mean_absolute_error: 0.0630 - val_loss: 0.0177 - val_mean_absolute_error: 0.0664\n",
            "Epoch 75/100\n",
            "\u001b[1m1179/1179\u001b[0m \u001b[32m━━━━━━━━━━━━━━━━━━━━\u001b[0m\u001b[37m\u001b[0m \u001b[1m6s\u001b[0m 4ms/step - loss: 0.0165 - mean_absolute_error: 0.0594 - val_loss: 0.0280 - val_mean_absolute_error: 0.0708\n",
            "Epoch 76/100\n",
            "\u001b[1m1179/1179\u001b[0m \u001b[32m━━━━━━━━━━━━━━━━━━━━\u001b[0m\u001b[37m\u001b[0m \u001b[1m11s\u001b[0m 5ms/step - loss: 0.0194 - mean_absolute_error: 0.0614 - val_loss: 0.0186 - val_mean_absolute_error: 0.0762\n",
            "Epoch 77/100\n",
            "\u001b[1m1179/1179\u001b[0m \u001b[32m━━━━━━━━━━━━━━━━━━━━\u001b[0m\u001b[37m\u001b[0m \u001b[1m9s\u001b[0m 4ms/step - loss: 0.0292 - mean_absolute_error: 0.0620 - val_loss: 0.0213 - val_mean_absolute_error: 0.0703\n",
            "Epoch 78/100\n",
            "\u001b[1m1179/1179\u001b[0m \u001b[32m━━━━━━━━━━━━━━━━━━━━\u001b[0m\u001b[37m\u001b[0m \u001b[1m5s\u001b[0m 5ms/step - loss: 0.0577 - mean_absolute_error: 0.0632 - val_loss: 0.0187 - val_mean_absolute_error: 0.0688\n",
            "Epoch 79/100\n",
            "\u001b[1m1179/1179\u001b[0m \u001b[32m━━━━━━━━━━━━━━━━━━━━\u001b[0m\u001b[37m\u001b[0m \u001b[1m4s\u001b[0m 4ms/step - loss: 0.0307 - mean_absolute_error: 0.0610 - val_loss: 0.0172 - val_mean_absolute_error: 0.0666\n",
            "Epoch 80/100\n",
            "\u001b[1m1179/1179\u001b[0m \u001b[32m━━━━━━━━━━━━━━━━━━━━\u001b[0m\u001b[37m\u001b[0m \u001b[1m6s\u001b[0m 5ms/step - loss: 0.0160 - mean_absolute_error: 0.0596 - val_loss: 0.0176 - val_mean_absolute_error: 0.0673\n",
            "Epoch 81/100\n",
            "\u001b[1m1179/1179\u001b[0m \u001b[32m━━━━━━━━━━━━━━━━━━━━\u001b[0m\u001b[37m\u001b[0m \u001b[1m9s\u001b[0m 4ms/step - loss: 0.0250 - mean_absolute_error: 0.0610 - val_loss: 0.0175 - val_mean_absolute_error: 0.0650\n",
            "Epoch 82/100\n",
            "\u001b[1m1179/1179\u001b[0m \u001b[32m━━━━━━━━━━━━━━━━━━━━\u001b[0m\u001b[37m\u001b[0m \u001b[1m6s\u001b[0m 5ms/step - loss: 0.0520 - mean_absolute_error: 0.0635 - val_loss: 0.0178 - val_mean_absolute_error: 0.0659\n",
            "Epoch 83/100\n",
            "\u001b[1m1179/1179\u001b[0m \u001b[32m━━━━━━━━━━━━━━━━━━━━\u001b[0m\u001b[37m\u001b[0m \u001b[1m5s\u001b[0m 4ms/step - loss: 0.0165 - mean_absolute_error: 0.0598 - val_loss: 0.0196 - val_mean_absolute_error: 0.0664\n",
            "Epoch 84/100\n",
            "\u001b[1m1179/1179\u001b[0m \u001b[32m━━━━━━━━━━━━━━━━━━━━\u001b[0m\u001b[37m\u001b[0m \u001b[1m6s\u001b[0m 5ms/step - loss: 0.0184 - mean_absolute_error: 0.0595 - val_loss: 0.0178 - val_mean_absolute_error: 0.0693\n",
            "Epoch 85/100\n",
            "\u001b[1m1179/1179\u001b[0m \u001b[32m━━━━━━━━━━━━━━━━━━━━\u001b[0m\u001b[37m\u001b[0m \u001b[1m9s\u001b[0m 4ms/step - loss: 0.0386 - mean_absolute_error: 0.0620 - val_loss: 0.0196 - val_mean_absolute_error: 0.0671\n",
            "Epoch 86/100\n",
            "\u001b[1m1179/1179\u001b[0m \u001b[32m━━━━━━━━━━━━━━━━━━━━\u001b[0m\u001b[37m\u001b[0m \u001b[1m7s\u001b[0m 6ms/step - loss: 0.0180 - mean_absolute_error: 0.0598 - val_loss: 0.0165 - val_mean_absolute_error: 0.0651\n",
            "Epoch 87/100\n",
            "\u001b[1m1179/1179\u001b[0m \u001b[32m━━━━━━━━━━━━━━━━━━━━\u001b[0m\u001b[37m\u001b[0m \u001b[1m4s\u001b[0m 4ms/step - loss: 0.0286 - mean_absolute_error: 0.0597 - val_loss: 0.0175 - val_mean_absolute_error: 0.0647\n",
            "Epoch 88/100\n",
            "\u001b[1m1179/1179\u001b[0m \u001b[32m━━━━━━━━━━━━━━━━━━━━\u001b[0m\u001b[37m\u001b[0m \u001b[1m9s\u001b[0m 7ms/step - loss: 0.0189 - mean_absolute_error: 0.0608 - val_loss: 0.0183 - val_mean_absolute_error: 0.0689\n",
            "Epoch 89/100\n",
            "\u001b[1m1179/1179\u001b[0m \u001b[32m━━━━━━━━━━━━━━━━━━━━\u001b[0m\u001b[37m\u001b[0m \u001b[1m6s\u001b[0m 5ms/step - loss: 0.0243 - mean_absolute_error: 0.0624 - val_loss: 0.0165 - val_mean_absolute_error: 0.0647\n",
            "Epoch 90/100\n",
            "\u001b[1m1179/1179\u001b[0m \u001b[32m━━━━━━━━━━━━━━━━━━━━\u001b[0m\u001b[37m\u001b[0m \u001b[1m10s\u001b[0m 5ms/step - loss: 0.0194 - mean_absolute_error: 0.0600 - val_loss: 0.0185 - val_mean_absolute_error: 0.0665\n",
            "Epoch 91/100\n",
            "\u001b[1m1179/1179\u001b[0m \u001b[32m━━━━━━━━━━━━━━━━━━━━\u001b[0m\u001b[37m\u001b[0m \u001b[1m10s\u001b[0m 5ms/step - loss: 0.0271 - mean_absolute_error: 0.0605 - val_loss: 0.0171 - val_mean_absolute_error: 0.0667\n",
            "Epoch 92/100\n",
            "\u001b[1m1179/1179\u001b[0m \u001b[32m━━━━━━━━━━━━━━━━━━━━\u001b[0m\u001b[37m\u001b[0m \u001b[1m4s\u001b[0m 4ms/step - loss: 0.0759 - mean_absolute_error: 0.0624 - val_loss: 0.0180 - val_mean_absolute_error: 0.0657\n",
            "Epoch 93/100\n",
            "\u001b[1m1179/1179\u001b[0m \u001b[32m━━━━━━━━━━━━━━━━━━━━\u001b[0m\u001b[37m\u001b[0m \u001b[1m6s\u001b[0m 4ms/step - loss: 0.0242 - mean_absolute_error: 0.0597 - val_loss: 0.0176 - val_mean_absolute_error: 0.0678\n",
            "Epoch 94/100\n",
            "\u001b[1m1179/1179\u001b[0m \u001b[32m━━━━━━━━━━━━━━━━━━━━\u001b[0m\u001b[37m\u001b[0m \u001b[1m10s\u001b[0m 4ms/step - loss: 0.0168 - mean_absolute_error: 0.0603 - val_loss: 0.0183 - val_mean_absolute_error: 0.0667\n",
            "Epoch 95/100\n",
            "\u001b[1m1179/1179\u001b[0m \u001b[32m━━━━━━━━━━━━━━━━━━━━\u001b[0m\u001b[37m\u001b[0m \u001b[1m6s\u001b[0m 5ms/step - loss: 0.0157 - mean_absolute_error: 0.0594 - val_loss: 0.0238 - val_mean_absolute_error: 0.0681\n",
            "Epoch 96/100\n",
            "\u001b[1m1179/1179\u001b[0m \u001b[32m━━━━━━━━━━━━━━━━━━━━\u001b[0m\u001b[37m\u001b[0m \u001b[1m5s\u001b[0m 4ms/step - loss: 0.0363 - mean_absolute_error: 0.0616 - val_loss: 0.0174 - val_mean_absolute_error: 0.0651\n",
            "Epoch 97/100\n",
            "\u001b[1m1179/1179\u001b[0m \u001b[32m━━━━━━━━━━━━━━━━━━━━\u001b[0m\u001b[37m\u001b[0m \u001b[1m5s\u001b[0m 4ms/step - loss: 0.0209 - mean_absolute_error: 0.0589 - val_loss: 0.0191 - val_mean_absolute_error: 0.0745\n",
            "Epoch 98/100\n",
            "\u001b[1m1179/1179\u001b[0m \u001b[32m━━━━━━━━━━━━━━━━━━━━\u001b[0m\u001b[37m\u001b[0m \u001b[1m5s\u001b[0m 4ms/step - loss: 0.0321 - mean_absolute_error: 0.0603 - val_loss: 0.0181 - val_mean_absolute_error: 0.0676\n",
            "Epoch 99/100\n",
            "\u001b[1m1179/1179\u001b[0m \u001b[32m━━━━━━━━━━━━━━━━━━━━\u001b[0m\u001b[37m\u001b[0m \u001b[1m5s\u001b[0m 4ms/step - loss: 0.0145 - mean_absolute_error: 0.0595 - val_loss: 0.0174 - val_mean_absolute_error: 0.0648\n",
            "Epoch 100/100\n",
            "\u001b[1m1179/1179\u001b[0m \u001b[32m━━━━━━━━━━━━━━━━━━━━\u001b[0m\u001b[37m\u001b[0m \u001b[1m6s\u001b[0m 5ms/step - loss: 0.0236 - mean_absolute_error: 0.0622 - val_loss: 0.0232 - val_mean_absolute_error: 0.0681\n"
          ]
        },
        {
          "output_type": "execute_result",
          "data": {
            "text/plain": [
              "<keras.src.callbacks.history.History at 0x7d296339c190>"
            ]
          },
          "metadata": {},
          "execution_count": 10
        }
      ],
      "source": [
        "# Train the model\n",
        "model.fit(X_train, y_train_scaled, epochs=100, batch_size=32, validation_split=0.2)"
      ]
    },
    {
      "cell_type": "markdown",
      "metadata": {
        "id": "3zFLwhe2kXet"
      },
      "source": [
        "# Compare Price Diff"
      ]
    },
    {
      "cell_type": "code",
      "execution_count": 11,
      "metadata": {
        "colab": {
          "base_uri": "https://localhost:8080/"
        },
        "id": "uPjaa1aUygvP",
        "outputId": "e606096a-6eb8-43a4-eeb2-6bf379aaa54d"
      },
      "outputs": [
        {
          "output_type": "stream",
          "name": "stdout",
          "text": [
            "\u001b[1m369/369\u001b[0m \u001b[32m━━━━━━━━━━━━━━━━━━━━\u001b[0m\u001b[37m\u001b[0m \u001b[1m1s\u001b[0m 2ms/step\n",
            "Mean Absolute Error (MAE): $7279.76\n"
          ]
        }
      ],
      "source": [
        "from sklearn.metrics import mean_absolute_error\n",
        "\n",
        "# Save the trained model\n",
        "model.save('car_price_prediction_model.keras')\n",
        "\n",
        "# Predict on test set (scaled input → scaled output)\n",
        "y_pred_scaled = model.predict(X_test)\n",
        "\n",
        "# Inverse transform predictions and true labels to original price scale\n",
        "y_pred_original = scaler_y.inverse_transform(y_pred_scaled)\n",
        "y_test_original = scaler_y.inverse_transform(y_test_scaled)\n",
        "\n",
        "# Compute and print MAE\n",
        "mae = mean_absolute_error(y_test_original, y_pred_original)\n",
        "print(f\"Mean Absolute Error (MAE): ${mae:.2f}\")"
      ]
    }
  ],
  "metadata": {
    "colab": {
      "provenance": []
    },
    "kernelspec": {
      "display_name": "Python 3",
      "name": "python3"
    },
    "language_info": {
      "name": "python"
    }
  },
  "nbformat": 4,
  "nbformat_minor": 0
}